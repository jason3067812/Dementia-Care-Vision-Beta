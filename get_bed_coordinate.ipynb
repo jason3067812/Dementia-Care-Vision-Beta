{
 "cells": [
  {
   "cell_type": "code",
   "execution_count": 7,
   "metadata": {},
   "outputs": [
    {
     "name": "stdout",
     "output_type": "stream",
     "text": [
      "功能: Enter確定，q跳過，其它重试\n",
      "請依照左上右上左下右下順序點擊\n",
      "座標： [[0, 4], [319, 4], [1, 184], [318, 184]]\n",
      "[[ 0  0]\n",
      " [32  0]\n",
      " [ 0 18]\n",
      " [32 18]]\n"
     ]
    },
    {
     "data": {
      "text/plain": [
       "True"
      ]
     },
     "execution_count": 7,
     "metadata": {},
     "output_type": "execute_result"
    }
   ],
   "source": [
    "import cv2 \n",
    "import numpy as np\n",
    "\n",
    "def SetPoints(windowname, img):\n",
    "\n",
    "    print('功能: Enter確定，q跳過，其它重试')\n",
    "    print('請依照左上右上左下右下順序點擊')\n",
    "    points = []\n",
    "\n",
    "    def onMouse(event, x, y, flags, param):\n",
    "\n",
    "        if event == cv2.EVENT_LBUTTONDOWN:\n",
    "                        \n",
    "            cv2.circle(temp_img, (x, y), 3, (102, 217, 239), -1)\n",
    "            points.append([x, y])\n",
    "            cv2.imshow(windowname, temp_img)\n",
    "   \n",
    "    temp_img = img.copy()\n",
    "    cv2.namedWindow(windowname)\n",
    "    cv2.imshow(windowname, temp_img)\n",
    "    cv2.setMouseCallback(windowname, onMouse)\n",
    "    key = cv2.waitKey(0)\n",
    "    if key == 13:  # Enter\n",
    "        print('座標：', points)\n",
    "        del temp_img\n",
    "        cv2.destroyAllWindows()\n",
    "        return points\n",
    "    elif key == ord('q'):  # ESC\n",
    "        print('結束')\n",
    "        del temp_img\n",
    "        cv2.destroyAllWindows()\n",
    "        return\n",
    "    else:\n",
    "        print('重试')\n",
    "        return SetPoints(windowname, img)\n",
    "\n",
    "img = cv2.imread(r\"D:\\Dementia_Data_Preprocessing\\main\\out_image\\20211023_t002628.jpg\")\n",
    "\n",
    "\n",
    "scale = 10\n",
    "img2 = cv2.resize(img,(32*scale,24*scale))\n",
    "point = SetPoints(\"test\",img2)\n",
    "\n",
    "arr = np.array(point)\n",
    "final = np.round(np.divide(arr, scale)).astype('int8')\n",
    "print(final)\n",
    "\n",
    "cv2.rectangle(img, (final[1][0],final[1][1]), (final[2][0],final[2][1]), (0, 255, 0), 1)\n",
    "cv2.imwrite(\"D:/location.jpg\",img)"
   ]
  },
  {
   "cell_type": "code",
   "execution_count": null,
   "metadata": {
    "collapsed": true
   },
   "outputs": [],
   "source": []
  }
 ],
 "metadata": {
  "kernelspec": {
   "display_name": "Python 3 (ipykernel)",
   "language": "python",
   "name": "python3"
  },
  "language_info": {
   "codemirror_mode": {
    "name": "ipython",
    "version": 3
   },
   "file_extension": ".py",
   "mimetype": "text/x-python",
   "name": "python",
   "nbconvert_exporter": "python",
   "pygments_lexer": "ipython3",
   "version": "3.8.12"
  }
 },
 "nbformat": 4,
 "nbformat_minor": 2
}
