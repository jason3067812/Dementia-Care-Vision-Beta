{
 "cells": [
  {
   "cell_type": "code",
   "execution_count": 1,
   "id": "3b551915",
   "metadata": {},
   "outputs": [
    {
     "data": {
      "text/plain": [
       "True"
      ]
     },
     "execution_count": 1,
     "metadata": {},
     "output_type": "execute_result"
    }
   ],
   "source": [
    "import cv2  \n",
    " \n",
    "img=cv2.imread(r\"D:\\test3\\20210825_t063832.png\")\n",
    " \n",
    "gray = cv2.cvtColor(img,cv2.COLOR_BGR2GRAY)  \n",
    " \n",
    "contours, hierarchy = cv2.findContours(gray,cv2.RETR_TREE,cv2.CHAIN_APPROX_SIMPLE)\n",
    "\n",
    "cv2.drawContours(img,contours[6],-1,(0,0,255),2) \n",
    "cv2.imwrite(f\"D:/test5/a.png\", img)"
   ]
  },
  {
   "cell_type": "code",
   "execution_count": null,
   "id": "a56b1350",
   "metadata": {},
   "outputs": [],
   "source": [
    "# run path\n",
    "\n",
    "import cv2\n",
    "import numpy as np\n",
    "import matplotlib.pyplot as plt\n",
    "import os\n",
    "\n",
    "\n",
    "# 修改路徑\n",
    "directory_name = r\"D:\\test3\"\n",
    "new_directory_name = r\"D:\\test5\"\n",
    "new_directory_name_2 = r\"D:\\test6\"\n",
    "\n",
    "for filename in os.listdir(directory_name):\n",
    "    \n",
    "\n",
    "    base = filename.split(\".\")[0]\n",
    " \n",
    "    img = cv2.imread(directory_name + \"/\" + filename)\n",
    "    img_copy = img\n",
    " \n",
    "    gray = cv2.cvtColor(img,cv2.COLOR_BGR2GRAY)  \n",
    "\n",
    "    contours, hierarchy = cv2.findContours(gray,cv2.RETR_TREE,cv2.CHAIN_APPROX_SIMPLE)\n",
    "\n",
    "    n = len(contours)\n",
    "    print(f\"{base}偵測到的輪廓總數:\",n)\n",
    "\n",
    "    p = []\n",
    "    for j in range(n): \n",
    "\n",
    "        #area = cv2.contourArea(contours[j])\n",
    "        perimeter = cv2.arcLength(contours[j], True)\n",
    "        p.append(perimeter)\n",
    "\n",
    "\n",
    "    max_p = max(p)\n",
    "    idx = p.index(max_p)\n",
    "\n",
    "    cv2.drawContours(img,contours[idx],-1,(0,0,255),2) \n",
    "    cv2.imwrite(new_directory_name + \"/\" + f\"{base}.png\", img)\n",
    "    \n",
    "    mask = np.ones(gray.shape)\n",
    "    mask = cv2.drawContours(mask, contours[idx], -1, 255, cv2.FILLED)\n",
    "    \n",
    "   \n",
    "    cv2.imwrite(new_directory_name_2 + \"/\" + f\"{base}.png\", mask)"
   ]
  },
  {
   "cell_type": "markdown",
   "id": "3fb5c9f6",
   "metadata": {},
   "source": [
    "## others method"
   ]
  },
  {
   "cell_type": "code",
   "execution_count": 10,
   "id": "c6134dfc",
   "metadata": {},
   "outputs": [
    {
     "name": "stdout",
     "output_type": "stream",
     "text": [
      "Hellow word!\n",
      "1-blob:156.5  x:6 y:8\n",
      "米粒平均面积:20.87\n"
     ]
    },
    {
     "data": {
      "text/plain": [
       "-1"
      ]
     },
     "execution_count": 10,
     "metadata": {},
     "output_type": "execute_result"
    }
   ],
   "source": [
    "import cv2  #导入opencv模块\n",
    "import numpy as np\n",
    "import matplotlib.pyplot as plt\n",
    "\n",
    "print(\"Hellow word!\")     #打印“Hello word！”，验证模块导入成功\n",
    "\n",
    "img=cv2.imread(r\"D:\\Dementia_Data_Preprocessing\\testing_data\\4\\20210825_t090457.jpg\")  #导入图片，图片放在程序所在目录\n",
    "#cv2.namedWindow(\"imagshow\", 2)   #创建一个窗口\n",
    "#cv2.imshow('imagshow', img)    #显示原始图片\n",
    "\n",
    "gray=cv2.cvtColor(img,cv2.COLOR_BGR2GRAY) #转换为灰度图\n",
    "\n",
    "#使用局部阈值的大津算法进行图像二值化\n",
    "dst = cv2.adaptiveThreshold(gray,255, cv2.ADAPTIVE_THRESH_MEAN_C, cv2.THRESH_BINARY,101, 1)\n",
    "\n",
    "#全局大津算法，效果较差\n",
    "#res ,dst = cv2.threshold(gray,0 ,255, cv2.THRESH_OTSU)\n",
    "\n",
    "element = cv2.getStructuringElement(cv2.MORPH_CROSS,(3, 3))#形态学去噪\n",
    "dst=cv2.morphologyEx(dst,cv2.MORPH_OPEN,element)  #开运算去噪\n",
    "\n",
    "contours, hierarchy = cv2.findContours(dst,cv2.RETR_EXTERNAL,cv2.CHAIN_APPROX_SIMPLE)  #轮廓检测函数\n",
    "cv2.drawContours(dst,contours,-1,(120,0,0),2)  #绘制轮廓\n",
    "\n",
    "count=0 #米粒总数\n",
    "ares_avrg=0  #米粒平均\n",
    "#遍历找到的所有米粒\n",
    "for cont in contours:\n",
    "\n",
    "    ares = cv2.contourArea(cont)#计算包围性状的面积\n",
    "\n",
    "    if ares<50:   #过滤面积小于10的形状\n",
    "        continue\n",
    "    count+=1    #总体计数加1\n",
    "    ares_avrg+=ares\n",
    "\n",
    "    print(\"{}-blob:{}\".format(count,ares),end=\"  \") #打印出每个米粒的面积\n",
    "\n",
    "    rect = cv2.boundingRect(cont) #提取矩形坐标\n",
    "\n",
    "    print(\"x:{} y:{}\".format(rect[0],rect[1]))#打印坐标\n",
    "\n",
    "    cv2.rectangle(img,rect,(0,0,0xff),1)#绘制矩形\n",
    "\n",
    "    y=10 if rect[1]<10 else rect[1] #防止编号到图片之外\n",
    "\n",
    "    cv2.putText(img,str(count), (rect[0], y), cv2.FONT_HERSHEY_COMPLEX, 0.4, (0, 255, 0), 1) #在米粒左上角写上编号\n",
    "\n",
    "print(\"米粒平均面积:{}\".format(round(ares_avrg/ares,2))) #打印出每个米粒的面积\n",
    "\n",
    "cv2.namedWindow(\"imagshow\", 2)   #创建一个窗口\n",
    "cv2.imshow('imagshow', img)    #显示原始图片\n",
    "\n",
    "cv2.namedWindow(\"dst\", 2)   #创建一个窗口\n",
    "cv2.imshow(\"dst\", dst)  #显示灰度图\n",
    "\n",
    "\n",
    "#plt.hist(gray.ravel(), 256, [0, 256]) #计算灰度直方图\n",
    "#plt.show()\n",
    "\n",
    "\n",
    "cv2.waitKey()"
   ]
  },
  {
   "cell_type": "code",
   "execution_count": null,
   "id": "48bab855",
   "metadata": {},
   "outputs": [],
   "source": []
  }
 ],
 "metadata": {
  "kernelspec": {
   "display_name": "Python 3",
   "language": "python",
   "name": "python3"
  },
  "language_info": {
   "codemirror_mode": {
    "name": "ipython",
    "version": 3
   },
   "file_extension": ".py",
   "mimetype": "text/x-python",
   "name": "python",
   "nbconvert_exporter": "python",
   "pygments_lexer": "ipython3",
   "version": "3.8.11"
  }
 },
 "nbformat": 4,
 "nbformat_minor": 5
}
