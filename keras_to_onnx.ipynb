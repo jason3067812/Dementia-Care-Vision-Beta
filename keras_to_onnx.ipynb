{
 "cells": [
  {
   "cell_type": "code",
   "execution_count": 1,
   "id": "92728b51",
   "metadata": {},
   "outputs": [],
   "source": [
    "import numpy as np\n",
    "import tensorflow as tf\n",
    "from tensorflow import keras\n",
    "\n",
    "model_path = r\"C:\\Users\\ee527\\Dementia_Vision_beta\\model\\test.h5\"\n",
    "\n",
    "model = tf.keras.models.load_model(model_path)"
   ]
  },
  {
   "cell_type": "code",
   "execution_count": 2,
   "id": "c6914ef3",
   "metadata": {},
   "outputs": [
    {
     "name": "stderr",
     "output_type": "stream",
     "text": [
      "tf executing eager_mode: True\n",
      "tf.keras model eager_mode: False\n",
      "The ONNX operator number change on the optimization: 99 -> 45\n"
     ]
    }
   ],
   "source": [
    "import keras2onnx\n",
    "\n",
    "output_model_path = r\"C:\\Users\\ee527\\Dementia_Vision_beta\\model\\test.onnx\"\n",
    "onnx_model = keras2onnx.convert_keras(model, model.name)\n",
    "keras2onnx.save_model(onnx_model, output_model_path)"
   ]
  }
 ],
 "metadata": {
  "kernelspec": {
   "display_name": "Python 3 (ipykernel)",
   "language": "python",
   "name": "python3"
  },
  "language_info": {
   "codemirror_mode": {
    "name": "ipython",
    "version": 3
   },
   "file_extension": ".py",
   "mimetype": "text/x-python",
   "name": "python",
   "nbconvert_exporter": "python",
   "pygments_lexer": "ipython3",
   "version": "3.8.12"
  }
 },
 "nbformat": 4,
 "nbformat_minor": 5
}
