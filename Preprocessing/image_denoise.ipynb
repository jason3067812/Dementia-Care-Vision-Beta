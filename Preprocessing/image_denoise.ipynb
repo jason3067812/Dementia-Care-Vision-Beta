{
 "cells": [
  {
   "cell_type": "code",
   "execution_count": null,
   "id": "1a8fb683",
   "metadata": {},
   "outputs": [],
   "source": [
    "\"\"\"\n",
    "\tbilateralFilter(src, d, sigmaColor, sigmaSpace[, dst[, borderType]]) -> dst\n",
    "\t  - src: 輸入圖像。\n",
    "\t  - d:   在過濾期間使用的每個像素鄰域的直徑。如果輸入d非0，則sigmaSpace由d計算得出，如果sigmaColor沒輸入，則sigmaColor由sigmaSpace計算得出。\n",
    "\t  - sigmaColor: 色彩空間的標準方差，一般儘可能大。\n",
    "\t                較大的參數值意味着像素鄰域內較遠的顏色會混合在一起，\n",
    "\t                從而產生更大面積的半相等顏色。\n",
    "\t  - sigmaSpace: 座標空間的標準方差(像素單位)，一般儘可能小。\n",
    "\t                參數值越大意味着只要它們的顏色足夠接近，越遠的像素都會相互影響。\n",
    "\t                當d > 0時，它指定鄰域大小而不考慮sigmaSpace。 \n",
    "\t                否則，d與sigmaSpace成正比。\n",
    "\"\"\"\n",
    "\n",
    "\n",
    "import cv2\n",
    "\n",
    "def bi_demo(image):      #雙邊濾波\n",
    "    dst = cv2.bilateralFilter(image, 0, 100, 5)\n",
    "    cv2.imshow(\"bi_demo\", dst)\n",
    "\n",
    "def shift_demo(image):   #均值遷移\n",
    "    dst = cv2.pyrMeanShiftFiltering(image, 10, 50)\n",
    "    cv2.imshow(\"shift_demo\", dst)\n",
    "\n",
    "src = cv2.imread(r\"D:\\Dementia_data_processing\\testing_data\\20211026\\all\\20211026_t035505.jpg\")\n",
    "img = cv2.resize(src,None,fx=0.8,fy=0.8,\n",
    "                 interpolation=cv2.INTER_CUBIC)\n",
    "cv2.imshow('input_image', img)\n",
    "\n",
    "bi_demo(img)\n",
    "shift_demo(img)\n",
    "\n",
    "cv2.waitKey(0)\n",
    "cv2.destroyAllWindows()"
   ]
  },
  {
   "cell_type": "code",
   "execution_count": null,
   "id": "c4cd3c2e",
   "metadata": {},
   "outputs": [],
   "source": [
    "import cv2\n",
    "import numpy as np\n",
    "\n",
    "def clamp(pv):\n",
    "    if pv > 255:\n",
    "        return 255\n",
    "    if pv < 0:\n",
    "        return 0\n",
    "    else:\n",
    "        return pv\n",
    "\n",
    "def gaussian_noise(image):           # 加高斯噪聲\n",
    "    h, w, c = image.shape\n",
    "    for row in range(h):\n",
    "        for col in range(w):\n",
    "            s = np.random.normal(0, 20, 3)\n",
    "            b = image[row, col, 0]   # blue\n",
    "            g = image[row, col, 1]   # green\n",
    "            r = image[row, col, 2]   # red\n",
    "            image[row, col, 0] = clamp(b + s[0])\n",
    "            image[row, col, 1] = clamp(g + s[1])\n",
    "            image[row, col, 2] = clamp(r + s[2])\n",
    "    cv2.imshow(\"noise image\", image)\n",
    "\n",
    "src = cv2.imread(r\"D:\\Dementia_data_processing\\out_image\\220215(Ali)\\PIR-55\\20220217\\20220217_t044901.jpg\")\n",
    "cv2.imshow('input_image', src)\n",
    "\n",
    "#gaussian_noise(src)\n",
    "dst = cv2.GaussianBlur(src, (15,15), 0) #高斯模糊\n",
    "cv2.imshow(\"Gaussian_Blur2\", dst)\n",
    "\n",
    "cv2.waitKey(0)\n",
    "cv2.destroyAllWindows()"
   ]
  },
  {
   "cell_type": "code",
   "execution_count": null,
   "id": "462ccf48",
   "metadata": {},
   "outputs": [],
   "source": [
    "import cv2\n",
    "\n",
    "img=cv2.imread(r\"D:\\Dementia_data_processing\\testing_data\\20211026\\all\\20211026_t063601.jpg\",cv2.IMREAD_COLOR)\n",
    "x=cv2.Sobel(img,cv2.CV_16S,1,0)\n",
    "y=cv2.Sobel(img,cv2.CV_16S,0,1)\n",
    "\n",
    "absx=cv2.convertScaleAbs(x)\n",
    "absy=cv2.convertScaleAbs(y)\n",
    "dist=cv2.addWeighted(absx,0.5,absy,0.5,0)\n",
    "\n",
    "cv2.imshow('original_img',img)\n",
    "# cv2.imshow('y',absy)\n",
    "# cv2.imshow('x',absx)\n",
    "cv2.imshow('dsit',dist)\n",
    "\n",
    "cv2.waitKey(0)\n",
    "cv2.destroyAllWindows()"
   ]
  },
  {
   "cell_type": "code",
   "execution_count": 4,
   "id": "1fb8f9f3",
   "metadata": {},
   "outputs": [
    {
     "data": {
      "text/plain": [
       "True"
      ]
     },
     "execution_count": 4,
     "metadata": {},
     "output_type": "execute_result"
    }
   ],
   "source": [
    "#椒鹽噪點（使用中值濾波去除）\n",
    "import cv2\n",
    "import numpy as np\n",
    "\n",
    "def salt(img, n):\n",
    "    for k in range(n):\n",
    "        i = int(np.random.random() * img.shape[1])\n",
    "        j = int(np.random.random() * img.shape[0])\n",
    "        if img.ndim == 2:\n",
    "            img[j,i] = 255\n",
    "        elif img.ndim == 3:\n",
    "            img[j,i,0]= 255\n",
    "            img[j,i,1]= 255\n",
    "            img[j,i,2]= 255\n",
    "        return img\n",
    "\n",
    "img = cv2.imread(r\"D:\\Dementia_data_processing\\out_image\\PIR-55\\20220219\\notice_img\\20220219_t232752.jpg\",cv2.IMREAD_GRAYSCALE)\n",
    "#result = salt(img, 500)\n",
    "median = cv2.medianBlur(img, 5)\n",
    "cv2.imwrite(\"D:/1before.jpg\", img)\n",
    "cv2.imwrite(\"D:/2after.jpg\", median)\n"
   ]
  },
  {
   "cell_type": "code",
   "execution_count": null,
   "id": "d2521d3f",
   "metadata": {},
   "outputs": [],
   "source": [
    "img = cv2.imread(r\"D:/2after.jpg\",cv2.IMREAD_GRAYSCALE)\n",
    "print(img)"
   ]
  },
  {
   "cell_type": "markdown",
   "id": "0daab6fd",
   "metadata": {},
   "source": [
    "## run path"
   ]
  },
  {
   "cell_type": "code",
   "execution_count": 1,
   "id": "e92c776b",
   "metadata": {},
   "outputs": [
    {
     "name": "stdout",
     "output_type": "stream",
     "text": [
      "finish\n"
     ]
    }
   ],
   "source": [
    "import cv2\n",
    "import numpy as np\n",
    "import os\n",
    "\n",
    "\n",
    "# 修改路徑\n",
    "directory_name = r'D:\\Dementia_data_processing\\out_image\\PIR-55\\20220219\\normal_img'\n",
    "new_directory_name = r'D:\\Dementia_data_processing\\out_image\\PIR-55\\20220219\\denoise'\n",
    "\n",
    "for filename in os.listdir(directory_name):\n",
    "    \n",
    "    img = cv2.imread(directory_name + \"/\" + filename,cv2.IMREAD_GRAYSCALE)\n",
    "    \n",
    "    # salt denoise\n",
    "    median = cv2.medianBlur(img, 5)\n",
    "    cv2.imwrite(new_directory_name + \"/\" + filename, median)\n",
    "    \n",
    "print(\"finish\")"
   ]
  },
  {
   "cell_type": "code",
   "execution_count": null,
   "id": "6acca633",
   "metadata": {},
   "outputs": [],
   "source": []
  }
 ],
 "metadata": {
  "kernelspec": {
   "display_name": "Python 3 (ipykernel)",
   "language": "python",
   "name": "python3"
  },
  "language_info": {
   "codemirror_mode": {
    "name": "ipython",
    "version": 3
   },
   "file_extension": ".py",
   "mimetype": "text/x-python",
   "name": "python",
   "nbconvert_exporter": "python",
   "pygments_lexer": "ipython3",
   "version": "3.8.12"
  }
 },
 "nbformat": 4,
 "nbformat_minor": 5
}
