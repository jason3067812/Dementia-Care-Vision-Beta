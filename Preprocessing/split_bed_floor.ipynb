{
 "cells": [
  {
   "cell_type": "markdown",
   "id": "605b07be",
   "metadata": {},
   "source": [
    "## padding upward"
   ]
  },
  {
   "cell_type": "code",
   "execution_count": 4,
   "id": "3977cb05",
   "metadata": {},
   "outputs": [
    {
     "name": "stdout",
     "output_type": "stream",
     "text": [
      "finish\n",
      "total number:17263\n"
     ]
    }
   ],
   "source": [
    "import cv2\n",
    "import os\n",
    "import random\n",
    "import numpy as np\n",
    "\n",
    "# 修改路徑\n",
    "directory_name = r\"D:\\Dementia_data_processing\\out_image\\PIR-55\\20220219\\denoise\"\n",
    "new_directory_name = r\"D:\\Dementia_data_processing\\out_image\\PIR-55\\20220219\\bed\"\n",
    "# 裁切區域的 x 與 y 座標（左上角）\n",
    "x = 0\n",
    "y = 10\n",
    "\n",
    "# 裁切區域的長度與寬度\n",
    "w = 32\n",
    "h = 24\n",
    "BLACK = [0,0,0]\n",
    "\n",
    "\n",
    "count=0\n",
    "for filename in os.listdir(directory_name):\n",
    "    #print(filename)\n",
    "    \n",
    "    count=count+1\n",
    "\n",
    "    img = cv2.imread(directory_name + \"/\" + filename,0)\n",
    "    \n",
    "\n",
    "    # 裁切圖片\n",
    "    crop_img = img[y:y+h, x:x+w]\n",
    "    size = crop_img.shape\n",
    "    #print(size)\n",
    "    \n",
    "    axis_x = size[1]\n",
    "    axis_y = size[0]\n",
    "    z = abs(axis_x-axis_y)    \n",
    "    \n",
    "    constant = cv2.copyMakeBorder(crop_img,z,0,0,0,cv2.BORDER_CONSTANT,value=BLACK)   # padding upward\n",
    "    cv2.imwrite(new_directory_name + \"/\" + filename, constant)\n",
    "    \n",
    "print(\"finish\")\n",
    "print(f\"total number:{count}\")"
   ]
  },
  {
   "cell_type": "markdown",
   "id": "85b84c32",
   "metadata": {},
   "source": [
    "## padding downward"
   ]
  },
  {
   "cell_type": "code",
   "execution_count": 5,
   "id": "761f3985",
   "metadata": {},
   "outputs": [
    {
     "name": "stdout",
     "output_type": "stream",
     "text": [
      "finish\n",
      "total number:17263\n"
     ]
    }
   ],
   "source": [
    "import cv2\n",
    "import os\n",
    "import random\n",
    "import numpy as np\n",
    "\n",
    "# 修改路徑\n",
    "directory_name = r\"D:\\Dementia_data_processing\\out_image\\PIR-55\\20220219\\denoise\"\n",
    "new_directory_name = r\"D:\\Dementia_data_processing\\out_image\\PIR-55\\20220219\\floor\"\n",
    "# 裁切區域的 x 與 y 座標（左上角）\n",
    "x = 0\n",
    "y = 0\n",
    "\n",
    "# 裁切區域的長度與寬度\n",
    "w = 32\n",
    "h = 10\n",
    "BLACK = [0,0,0]\n",
    "\n",
    "count=0\n",
    "for filename in os.listdir(directory_name):\n",
    "    \n",
    "    count=count+1\n",
    "\n",
    "    img = cv2.imread(directory_name + \"/\" + filename,0)\n",
    "    \n",
    "    # 裁切圖片\n",
    "    crop_img = img[y:y+h, x:x+w]\n",
    "    size = crop_img.shape\n",
    "  \n",
    "    axis_x = size[1]\n",
    "    axis_y = size[0]\n",
    "    z = abs(axis_x-axis_y)    \n",
    "   \n",
    "    \n",
    "    BLACK = [0,0,0]\n",
    "    constant = cv2.copyMakeBorder(crop_img,0,z,0,0,cv2.BORDER_CONSTANT,value=BLACK)   # padding downward\n",
    "    cv2.imwrite(new_directory_name + \"/\" + filename, constant)\n",
    "    \n",
    "print(\"finish\")\n",
    "print(f\"total number:{count}\")"
   ]
  },
  {
   "cell_type": "code",
   "execution_count": null,
   "id": "dfeb1be1",
   "metadata": {},
   "outputs": [],
   "source": []
  }
 ],
 "metadata": {
  "kernelspec": {
   "display_name": "Python 3 (ipykernel)",
   "language": "python",
   "name": "python3"
  },
  "language_info": {
   "codemirror_mode": {
    "name": "ipython",
    "version": 3
   },
   "file_extension": ".py",
   "mimetype": "text/x-python",
   "name": "python",
   "nbconvert_exporter": "python",
   "pygments_lexer": "ipython3",
   "version": "3.8.12"
  }
 },
 "nbformat": 4,
 "nbformat_minor": 5
}
