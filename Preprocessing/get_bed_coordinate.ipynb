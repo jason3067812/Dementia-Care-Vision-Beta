{
 "cells": [
  {
   "cell_type": "code",
   "execution_count": 6,
   "metadata": {},
   "outputs": [
    {
     "name": "stdout",
     "output_type": "stream",
     "text": [
      "function: Enter=ensure，q=skip，other=retry\n",
      "please follow the order to click: upper left -> upper right -> down left -> down right\n",
      "end\n",
      "None\n"
     ]
    }
   ],
   "source": [
    "import cv2 \n",
    "import numpy as np\n",
    "\n",
    "def SetPoints(windowname, img):\n",
    "\n",
    "    print('function: Enter=ensure，q=skip，other=retry')\n",
    "    print('please follow the order to click: upper left -> upper right -> down left -> down right')\n",
    "    points = []\n",
    "\n",
    "    def onMouse(event, x, y, flags, param):\n",
    "\n",
    "        if event == cv2.EVENT_LBUTTONDOWN:\n",
    "                        \n",
    "            cv2.circle(temp_img, (x, y), 3, (102, 217, 239), -1)\n",
    "            points.append([x, y])\n",
    "            cv2.imshow(windowname, temp_img)\n",
    "   \n",
    "    temp_img = img.copy()\n",
    "    cv2.namedWindow(windowname)\n",
    "    cv2.imshow(windowname, temp_img)\n",
    "    cv2.setMouseCallback(windowname, onMouse)\n",
    "    key = cv2.waitKey(0)\n",
    "    if key == 13:  # Enter\n",
    "        print('coordinate：', points)\n",
    "        del temp_img\n",
    "        cv2.destroyAllWindows()\n",
    "        return points\n",
    "    elif key == ord('q'):  # ESC\n",
    "        print('end')\n",
    "        del temp_img\n",
    "        cv2.destroyAllWindows()\n",
    "        return\n",
    "    else:\n",
    "        print('retry')\n",
    "        return SetPoints(windowname, img)\n",
    "\n",
    "img = cv2.imread(r\"D:\\Dementia_data_processing\\new_training_data\\bed\\2\\20211024_t071424.jpg\") # change path here !!!1\n",
    "\n",
    "\n",
    "scale = 10\n",
    "img2 = cv2.resize(img,(32*scale,24*scale))\n",
    "point = SetPoints(\"test\",img2)\n",
    "\n",
    "if point != None:\n",
    "    arr = np.array(point)\n",
    "    final = np.round(np.divide(arr, scale)).astype('int8')\n",
    "    print(final)\n",
    "\n",
    "    cv2.rectangle(img, (final[1][0],final[1][1]), (final[2][0],final[2][1]), (0, 255, 0), 1)\n",
    "    cv2.imwrite(\"D:/location.jpg\",img)\n",
    "    \n"
   ]
  },
  {
   "cell_type": "code",
   "execution_count": null,
   "metadata": {
    "collapsed": true
   },
   "outputs": [],
   "source": []
  }
 ],
 "metadata": {
  "kernelspec": {
   "display_name": "Python 3 (ipykernel)",
   "language": "python",
   "name": "python3"
  },
  "language_info": {
   "codemirror_mode": {
    "name": "ipython",
    "version": 3
   },
   "file_extension": ".py",
   "mimetype": "text/x-python",
   "name": "python",
   "nbconvert_exporter": "python",
   "pygments_lexer": "ipython3",
   "version": "3.8.12"
  }
 },
 "nbformat": 4,
 "nbformat_minor": 2
}
