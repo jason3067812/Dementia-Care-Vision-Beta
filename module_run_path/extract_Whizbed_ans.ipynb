{
 "cells": [
  {
   "cell_type": "code",
   "execution_count": 31,
   "id": "09d547d3",
   "metadata": {},
   "outputs": [
    {
     "name": "stdout",
     "output_type": "stream",
     "text": [
      "using ans2: ['00', '01', '02', '03', '04']\n",
      "start processing...\n",
      "ans: ['00:00:00', '01:57:14', '01:58:46', '01:59:00', '02:06:45', '02:07:19', '02:07:40', '02:08:19', '02:12:07', '02:13:29', '02:16:25', '02:19:46', '02:20:10', '02:20:17', '02:21:05', '02:21:17', '02:25:40', '02:27:47', '02:28:22', '02:31:23', '02:34:31', '02:45:20', '02:49:04', '02:52:29', '02:54:53', '02:58:46', '03:00:47', '03:04:04', '03:09:06', '03:11:43', '03:16:00', '03:20:10', '03:20:32', '04:50:11', '04:59:47', '05:43:38', '05:53:52', '05:53:59', '06:22:43', '06:23:10', '06:39:01', '06:41:51', '06:58:01', '07:15:45', '07:16:21', '07:16:33', '07:37:22', '07:59:32', '08:10:23', '22:42:36']\n"
     ]
    }
   ],
   "source": [
    "import csv\n",
    "\n",
    "pre = \"05\"\n",
    "zerotime = 0\n",
    "leavetime = \"aaa\"\n",
    "status = \"no\"\n",
    "find = []\n",
    "threshold = 3\n",
    "ans1 = [\"0\",\"1\",\"2\",\"3\",\"4\"]\n",
    "ans2 = [\"00\",\"01\",\"02\",\"03\",\"04\"]\n",
    "path = r\"D:\\Dementia_Data_Preprocessing\\raw_data\\Final_test\\WhizPad(Bed)-20211202T072019Z-001\\20211007.csv\"\n",
    "with open(path) as csvfile:\n",
    "    reader = csv.reader(csvfile)   \n",
    "    for row in reader:\n",
    "        now = row[3]\n",
    "        if now in ans1:\n",
    "            print(\"using ans1:\",ans1)\n",
    "            ans = ans1\n",
    "        else:\n",
    "            print(\"using ans2:\",ans2)\n",
    "            ans = ans2\n",
    "        break\n",
    "\n",
    "print(\"start processing...\")\n",
    "with open(path) as csvfile:\n",
    "    reader = csv.reader(csvfile)   \n",
    "    for row in reader:\n",
    "        #print(row)\n",
    "        now = row[3]\n",
    "            \n",
    "        if now == \"BR\":\n",
    "            continue\n",
    "        if now == ans[0] and pre != ans[0]:\n",
    "            status = \"start\"\n",
    "            leavetime = row[0]\n",
    "            \n",
    "        if status == \"start\" and now == ans[0]:\n",
    "            zerotime+=1\n",
    "        else:\n",
    "            zerotime = 0 \n",
    "            \n",
    "        if zerotime > threshold:\n",
    "            find.append(leavetime)\n",
    "            status = \"end\"                   \n",
    "        pre = row[3]\n",
    "    print(\"ans:\",find)"
   ]
  }
 ],
 "metadata": {
  "kernelspec": {
   "display_name": "Python 3 (ipykernel)",
   "language": "python",
   "name": "python3"
  },
  "language_info": {
   "codemirror_mode": {
    "name": "ipython",
    "version": 3
   },
   "file_extension": ".py",
   "mimetype": "text/x-python",
   "name": "python",
   "nbconvert_exporter": "python",
   "pygments_lexer": "ipython3",
   "version": "3.8.12"
  }
 },
 "nbformat": 4,
 "nbformat_minor": 5
}
