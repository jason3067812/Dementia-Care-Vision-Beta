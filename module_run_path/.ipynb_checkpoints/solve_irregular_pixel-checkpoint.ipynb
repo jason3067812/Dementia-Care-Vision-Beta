{
 "cells": [
  {
   "cell_type": "code",
   "execution_count": 3,
   "id": "c8bf349c",
   "metadata": {},
   "outputs": [
    {
     "name": "stdout",
     "output_type": "stream",
     "text": [
      "Total list length: 1480\n",
      "Max differ pixel value: 49\n"
     ]
    }
   ],
   "source": [
    "import cv2\n",
    "\n",
    "\n",
    "img = cv2.imread(r\"D:\\test3_error\\20211023_t054904.jpg\",0)\n",
    "img_copy = img\n",
    "img_t = img.T\n",
    "dlist = []\n",
    "\n",
    "\n",
    "# 橫向比較\n",
    "shape = img.shape\n",
    "ymax = shape[0]\n",
    "xmax = shape[1]\n",
    "#print(\"image shape:\", ymax,xmax)\n",
    "\n",
    "for i in range(ymax):    \n",
    "    for j in range(xmax):\n",
    "        \n",
    "        n = int(img[i][j])\n",
    "   \n",
    "        if j+1 < xmax:\n",
    "            r = int(img[i][j+1])\n",
    "            d = abs(r-n)\n",
    "            dlist.append(d)\n",
    "\n",
    "# 縱向比較            \n",
    "shape = img_t.shape\n",
    "ymax = shape[0]\n",
    "xmax = shape[1]\n",
    "#print(\"image shape:\", ymax,xmax)\n",
    "\n",
    "for i in range(ymax):    \n",
    "    for j in range(xmax):\n",
    "        \n",
    "        n = int(img_t[i][j])\n",
    "  \n",
    "        if j+1 < xmax:\n",
    "            r = int(img_t[i][j+1])\n",
    "            d = abs(r-n)\n",
    "            dlist.append(d)\n",
    "            \n",
    "\n",
    "print(\"Total list length:\", len(dlist)) \n",
    "print(\"Max differ pixel value:\", max(dlist))"
   ]
  },
  {
   "cell_type": "code",
   "execution_count": null,
   "id": "fcadd5b7",
   "metadata": {},
   "outputs": [],
   "source": [
    "print(dlist)"
   ]
  },
  {
   "cell_type": "markdown",
   "id": "765cbc3c",
   "metadata": {},
   "source": [
    "## 分析各點差異並返回四分位數"
   ]
  },
  {
   "cell_type": "code",
   "execution_count": 4,
   "id": "7251efbf",
   "metadata": {},
   "outputs": [
    {
     "name": "stdout",
     "output_type": "stream",
     "text": [
      "39.0\n"
     ]
    }
   ],
   "source": [
    "import numpy as np\n",
    "notice = np.percentile(dlist, 99)\n",
    "print(notice)"
   ]
  },
  {
   "cell_type": "code",
   "execution_count": null,
   "id": "abd7ac23",
   "metadata": {},
   "outputs": [],
   "source": [
    "notice_list = []\n",
    "\n",
    "# 橫向比較\n",
    "shape = img.shape\n",
    "ymax = shape[0]\n",
    "xmax = shape[1]\n",
    "#print(\"image shape:\", ymax,xmax)\n",
    "\n",
    "for i in range(ymax):    \n",
    "    for j in range(xmax):\n",
    "\n",
    "        n = int(img[i][j])\n",
    "   \n",
    "        if j+1 < xmax:\n",
    "            r = int(img[i][j+1])\n",
    "            d = abs(r-n)\n",
    "            if d >= notice:\n",
    "                print((i,j))\n",
    "                notice_list.append((i,j))\n",
    "                notice_list.append((i,j+1))\n",
    "\n",
    "# 縱向比較            \n",
    "shape = img_t.shape\n",
    "ymax = shape[0]\n",
    "xmax = shape[1]\n",
    "#print(\"image shape:\", ymax,xmax)\n",
    "\n",
    "for i in range(ymax):    \n",
    "    for j in range(xmax):\n",
    "        \n",
    "        n = int(img_t[i][j])\n",
    "  \n",
    "        if j+1 < xmax:\n",
    "            r = int(img_t[i][j+1])\n",
    "            d = abs(r-n)\n",
    "            if d >= notice:\n",
    "                print((j,i))\n",
    "                notice_list.append((j,i))\n",
    "                notice_list.append((j+1,i))\n"
   ]
  },
  {
   "cell_type": "code",
   "execution_count": null,
   "id": "c7646518",
   "metadata": {},
   "outputs": [],
   "source": [
    "print(notice_list)"
   ]
  },
  {
   "cell_type": "code",
   "execution_count": null,
   "id": "10815162",
   "metadata": {},
   "outputs": [],
   "source": [
    "#cv2.imwrite(\"D:/test7/a.png\", img_copy)"
   ]
  },
  {
   "cell_type": "markdown",
   "id": "9f5b8a32",
   "metadata": {},
   "source": [
    "## start run path"
   ]
  },
  {
   "cell_type": "code",
   "execution_count": null,
   "id": "a8c2e3e4",
   "metadata": {},
   "outputs": [],
   "source": [
    "import cv2\n",
    "import numpy as np\n",
    "import matplotlib.pyplot as plt\n",
    "import os\n",
    "\n",
    "# 修改路徑\n",
    "directory_name = r'D:\\test3'\n",
    "\n",
    "for filename in os.listdir(directory_name):\n",
    "    \n",
    "\n",
    "    base = filename.split(\".\")[0]\n",
    "   \n",
    "    # 讀取原始影像灰度顏色\n",
    "    img = cv2.imread(directory_name + \"/\" + filename,0)\n",
    "    \n",
    "    \n",
    "    img_copy = img\n",
    "    dlist = []\n",
    "\n",
    "\n",
    "    # 橫向比較\n",
    "    shape = img.shape\n",
    "    ymax = shape[0]\n",
    "    xmax = shape[1]\n",
    "    #print(\"image shape:\", ymax,xmax)\n",
    "\n",
    "    for i in range(ymax):    \n",
    "        for j in range(xmax):\n",
    "\n",
    "            n = int(img[i][j])\n",
    "\n",
    "            if j+1 < xmax:\n",
    "                r = int(img[i][j+1])\n",
    "                d = abs(r-n)\n",
    "                dlist.append(d)\n",
    "\n",
    "    # 縱向比較            \n",
    "    img_t = img.T\n",
    "    shape = img_t.shape\n",
    "    ymax = shape[0]\n",
    "    xmax = shape[1]\n",
    "    #print(\"image shape:\", ymax,xmax)\n",
    "\n",
    "    for i in range(ymax):    \n",
    "        for j in range(xmax):\n",
    "\n",
    "            n = int(img_t[i][j])\n",
    "\n",
    "            if j+1 < xmax:\n",
    "                r = int(img_t[i][j+1])\n",
    "                d = abs(r-n)\n",
    "                dlist.append(d)\n",
    "    \n",
    "    max_dlist = max(dlist)\n",
    "    if max_dlist >= 150:\n",
    "        print(filename)\n",
    "        print(\"Max differ pixel value:\", max_dlist)"
   ]
  }
 ],
 "metadata": {
  "kernelspec": {
   "display_name": "Python 3 (ipykernel)",
   "language": "python",
   "name": "python3"
  },
  "language_info": {
   "codemirror_mode": {
    "name": "ipython",
    "version": 3
   },
   "file_extension": ".py",
   "mimetype": "text/x-python",
   "name": "python",
   "nbconvert_exporter": "python",
   "pygments_lexer": "ipython3",
   "version": "3.8.12"
  }
 },
 "nbformat": 4,
 "nbformat_minor": 5
}
