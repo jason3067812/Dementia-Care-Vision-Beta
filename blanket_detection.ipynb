{
 "cells": [
  {
   "cell_type": "code",
   "execution_count": 1,
   "id": "f2bc9f12",
   "metadata": {},
   "outputs": [],
   "source": [
    "import os\n",
    "import cv2\n",
    "import numpy as np\n",
    "\n",
    "def blanket_detection(key, image, threshold):\n",
    "    \n",
    "    if key:\n",
    "        \n",
    "        \n",
    "        arr = np.array(img)\n",
    "        arr2 = arr.flatten()\n",
    "        a = np.std(arr2, ddof=1)\n",
    "        \n",
    "        if a > threshold:\n",
    "            result = \"without blanket\"\n",
    "            \n",
    "        else:\n",
    "            result = \"with blanket\"\n",
    "      \n",
    "            \n",
    "    return result "
   ]
  },
  {
   "cell_type": "code",
   "execution_count": 2,
   "id": "1d1031a2",
   "metadata": {},
   "outputs": [
    {
     "name": "stdout",
     "output_type": "stream",
     "text": [
      "20211023_t002726.jpg\n",
      "system send alert!\n"
     ]
    }
   ],
   "source": [
    "import os\n",
    "import cv2\n",
    "import numpy as np\n",
    "\n",
    "\n",
    "directory_name = r\"D:\\test\"\n",
    "\n",
    "# parameter ###############################################\n",
    "key = True\n",
    "tolerance = 30\n",
    "threshold = 21\n",
    "\n",
    "\n",
    "# start ###################################################\n",
    "\n",
    "time = 0\n",
    "for filename in os.listdir(directory_name):\n",
    "    \n",
    "    \n",
    "    img = cv2.imread(directory_name + \"/\" + filename,0)\n",
    "    result = blanket_detection(key, img, threshold)\n",
    "    #print([filename,result])\n",
    "    \n",
    "    if result == \"without blanket\":\n",
    "        time += 1\n",
    "    else:\n",
    "        time = 0\n",
    "    if time == tolerance:\n",
    "        print(filename)\n",
    "        print(\"system send alert!\")\n",
    "        time = 0\n",
    "    \n"
   ]
  },
  {
   "cell_type": "code",
   "execution_count": null,
   "id": "c4392b40",
   "metadata": {},
   "outputs": [],
   "source": []
  }
 ],
 "metadata": {
  "kernelspec": {
   "display_name": "Python 3 (ipykernel)",
   "language": "python",
   "name": "python3"
  },
  "language_info": {
   "codemirror_mode": {
    "name": "ipython",
    "version": 3
   },
   "file_extension": ".py",
   "mimetype": "text/x-python",
   "name": "python",
   "nbconvert_exporter": "python",
   "pygments_lexer": "ipython3",
   "version": "3.8.12"
  }
 },
 "nbformat": 4,
 "nbformat_minor": 5
}
