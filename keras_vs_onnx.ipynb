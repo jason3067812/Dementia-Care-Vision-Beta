{
 "cells": [
  {
   "cell_type": "markdown",
   "id": "dd4105a1",
   "metadata": {},
   "source": [
    "## keras to onnx"
   ]
  },
  {
   "cell_type": "code",
   "execution_count": 19,
   "id": "38957741",
   "metadata": {},
   "outputs": [],
   "source": [
    "import numpy as np\n",
    "from tensorflow.keras.preprocessing import image\n",
    "from tensorflow.keras.applications.resnet50 import preprocess_input\n",
    "import keras2onnx\n",
    "import onnxruntime\n",
    "import tensorflow as tf"
   ]
  },
  {
   "cell_type": "code",
   "execution_count": 20,
   "id": "626cec16",
   "metadata": {},
   "outputs": [
    {
     "name": "stderr",
     "output_type": "stream",
     "text": [
      "tf executing eager_mode: True\n",
      "tf.keras model eager_mode: False\n"
     ]
    },
    {
     "ename": "TypeError",
     "evalue": "must be str, not NoneType",
     "output_type": "error",
     "traceback": [
      "\u001b[1;31m---------------------------------------------------------------------------\u001b[0m",
      "\u001b[1;31mTypeError\u001b[0m                                 Traceback (most recent call last)",
      "\u001b[1;32m~\\AppData\\Local\\Temp/ipykernel_8828/1221202424.py\u001b[0m in \u001b[0;36m<module>\u001b[1;34m\u001b[0m\n\u001b[0;32m      1\u001b[0m \u001b[0mmodel\u001b[0m \u001b[1;33m=\u001b[0m \u001b[0mtf\u001b[0m\u001b[1;33m.\u001b[0m\u001b[0mkeras\u001b[0m\u001b[1;33m.\u001b[0m\u001b[0mmodels\u001b[0m\u001b[1;33m.\u001b[0m\u001b[0mload_model\u001b[0m\u001b[1;33m(\u001b[0m\u001b[1;34mr\"C:\\Users\\ee527\\Dementia_Vision_beta\\model\\test.h5\"\u001b[0m\u001b[1;33m)\u001b[0m\u001b[1;33m\u001b[0m\u001b[1;33m\u001b[0m\u001b[0m\n\u001b[1;32m----> 2\u001b[1;33m \u001b[0monnx_model\u001b[0m \u001b[1;33m=\u001b[0m \u001b[0mkeras2onnx\u001b[0m\u001b[1;33m.\u001b[0m\u001b[0mconvert_keras\u001b[0m\u001b[1;33m(\u001b[0m\u001b[0mmodel\u001b[0m\u001b[1;33m,\u001b[0m \u001b[0mmodel\u001b[0m\u001b[1;33m.\u001b[0m\u001b[0mname\u001b[0m\u001b[1;33m)\u001b[0m\u001b[1;33m\u001b[0m\u001b[1;33m\u001b[0m\u001b[0m\n\u001b[0m",
      "\u001b[1;32m~\\anaconda3\\envs\\test\\lib\\site-packages\\keras2onnx\\main.py\u001b[0m in \u001b[0;36mconvert_keras\u001b[1;34m(model, name, doc_string, target_opset, channel_first_inputs, debug_mode, custom_op_conversions)\u001b[0m\n\u001b[0;32m     78\u001b[0m         \u001b[0mparse_graph_modeless\u001b[0m\u001b[1;33m(\u001b[0m\u001b[0mtopology\u001b[0m\u001b[1;33m,\u001b[0m \u001b[0mtf_graph\u001b[0m\u001b[1;33m,\u001b[0m \u001b[0mtarget_opset\u001b[0m\u001b[1;33m,\u001b[0m \u001b[0minput_names\u001b[0m\u001b[1;33m,\u001b[0m \u001b[0moutput_names\u001b[0m\u001b[1;33m,\u001b[0m \u001b[0moutput_dict\u001b[0m\u001b[1;33m)\u001b[0m\u001b[1;33m\u001b[0m\u001b[1;33m\u001b[0m\u001b[0m\n\u001b[0;32m     79\u001b[0m     \u001b[1;32melse\u001b[0m\u001b[1;33m:\u001b[0m\u001b[1;33m\u001b[0m\u001b[1;33m\u001b[0m\u001b[0m\n\u001b[1;32m---> 80\u001b[1;33m         \u001b[0mparse_graph\u001b[0m\u001b[1;33m(\u001b[0m\u001b[0mtopology\u001b[0m\u001b[1;33m,\u001b[0m \u001b[0mtf_graph\u001b[0m\u001b[1;33m,\u001b[0m \u001b[0mtarget_opset\u001b[0m\u001b[1;33m,\u001b[0m \u001b[0moutput_names\u001b[0m\u001b[1;33m,\u001b[0m \u001b[0moutput_dict\u001b[0m\u001b[1;33m)\u001b[0m\u001b[1;33m\u001b[0m\u001b[1;33m\u001b[0m\u001b[0m\n\u001b[0m\u001b[0;32m     81\u001b[0m     \u001b[0mtopology\u001b[0m\u001b[1;33m.\u001b[0m\u001b[0mcompile\u001b[0m\u001b[1;33m(\u001b[0m\u001b[1;33m)\u001b[0m\u001b[1;33m\u001b[0m\u001b[1;33m\u001b[0m\u001b[0m\n\u001b[0;32m     82\u001b[0m \u001b[1;33m\u001b[0m\u001b[0m\n",
      "\u001b[1;32m~\\anaconda3\\envs\\test\\lib\\site-packages\\keras2onnx\\parser.py\u001b[0m in \u001b[0;36mparse_graph\u001b[1;34m(topo, graph, target_opset, output_names, keras_node_dict)\u001b[0m\n\u001b[0;32m    837\u001b[0m         \u001b[0mtopo\u001b[0m\u001b[1;33m.\u001b[0m\u001b[0mraw_model\u001b[0m\u001b[1;33m.\u001b[0m\u001b[0madd_output_name\u001b[0m\u001b[1;33m(\u001b[0m\u001b[0mstr_value\u001b[0m\u001b[1;33m)\u001b[0m\u001b[1;33m\u001b[0m\u001b[1;33m\u001b[0m\u001b[0m\n\u001b[0;32m    838\u001b[0m \u001b[1;33m\u001b[0m\u001b[0m\n\u001b[1;32m--> 839\u001b[1;33m     return _parse_graph_core_v2(\n\u001b[0m\u001b[0;32m    840\u001b[0m         \u001b[0mgraph\u001b[0m\u001b[1;33m,\u001b[0m \u001b[0mkeras_node_dict\u001b[0m\u001b[1;33m,\u001b[0m \u001b[0mtopo\u001b[0m\u001b[1;33m,\u001b[0m \u001b[0mtop_level\u001b[0m\u001b[1;33m,\u001b[0m \u001b[0moutput_names\u001b[0m\u001b[1;33m\u001b[0m\u001b[1;33m\u001b[0m\u001b[0m\n\u001b[0;32m    841\u001b[0m     \u001b[1;33m)\u001b[0m \u001b[1;32mif\u001b[0m \u001b[0mis_tf2\u001b[0m \u001b[1;32mand\u001b[0m \u001b[0mis_tf_keras\u001b[0m \u001b[1;32melse\u001b[0m \u001b[0m_parse_graph_core\u001b[0m\u001b[1;33m(\u001b[0m\u001b[1;33m\u001b[0m\u001b[1;33m\u001b[0m\u001b[0m\n",
      "\u001b[1;32m~\\anaconda3\\envs\\test\\lib\\site-packages\\keras2onnx\\parser.py\u001b[0m in \u001b[0;36m_parse_graph_core_v2\u001b[1;34m(graph, keras_node_dict, topology, top_scope, output_names)\u001b[0m\n\u001b[0;32m    715\u001b[0m             \u001b[1;32mcontinue\u001b[0m\u001b[1;33m\u001b[0m\u001b[1;33m\u001b[0m\u001b[0m\n\u001b[0;32m    716\u001b[0m \u001b[1;33m\u001b[0m\u001b[0m\n\u001b[1;32m--> 717\u001b[1;33m         layer_info, model_ = _parse_nodes_v2(graph, inference_nodeset, input_nodes, keras_node_dict, node,\n\u001b[0m\u001b[0;32m    718\u001b[0m                                              varset, visited, q_overall)\n\u001b[0;32m    719\u001b[0m         \u001b[1;32mif\u001b[0m \u001b[1;32mnot\u001b[0m \u001b[0mlayer_info\u001b[0m\u001b[1;33m:\u001b[0m  \u001b[1;31m# already processed by the _parse_nodes_v2\u001b[0m\u001b[1;33m\u001b[0m\u001b[1;33m\u001b[0m\u001b[0m\n",
      "\u001b[1;32m~\\anaconda3\\envs\\test\\lib\\site-packages\\keras2onnx\\parser.py\u001b[0m in \u001b[0;36m_parse_nodes_v2\u001b[1;34m(graph, inference_nodeset, graph_inputs, keras_node_dict, node, varset, visited, q_overall)\u001b[0m\n\u001b[0;32m    665\u001b[0m             \u001b[1;32mreturn\u001b[0m \u001b[1;32mNone\u001b[0m\u001b[1;33m,\u001b[0m \u001b[0mmodel_\u001b[0m\u001b[1;33m\u001b[0m\u001b[1;33m\u001b[0m\u001b[0m\n\u001b[0;32m    666\u001b[0m         \u001b[1;32melse\u001b[0m\u001b[1;33m:\u001b[0m\u001b[1;33m\u001b[0m\u001b[1;33m\u001b[0m\u001b[0m\n\u001b[1;32m--> 667\u001b[1;33m             layer_info = LayerInfo.create(node, layer_key,\n\u001b[0m\u001b[0;32m    668\u001b[0m                                           {**keras_node_dict, **current_layer_outputs}, inference_nodeset)\n\u001b[0;32m    669\u001b[0m \u001b[1;33m\u001b[0m\u001b[0m\n",
      "\u001b[1;32m~\\anaconda3\\envs\\test\\lib\\site-packages\\keras2onnx\\_parser_tf.py\u001b[0m in \u001b[0;36mcreate\u001b[1;34m(node, layer, outputs_map, inference_nodeset)\u001b[0m\n\u001b[0;32m    128\u001b[0m                 \u001b[1;32mfor\u001b[0m \u001b[0mi_\u001b[0m \u001b[1;32min\u001b[0m \u001b[0mn_\u001b[0m\u001b[1;33m.\u001b[0m\u001b[0minputs\u001b[0m\u001b[1;33m:\u001b[0m\u001b[1;33m\u001b[0m\u001b[1;33m\u001b[0m\u001b[0m\n\u001b[0;32m    129\u001b[0m                     \u001b[1;31m# in layer_spec model, the layer name will be checked\u001b[0m\u001b[1;33m\u001b[0m\u001b[1;33m\u001b[0m\u001b[1;33m\u001b[0m\u001b[0m\n\u001b[1;32m--> 130\u001b[1;33m                     \u001b[1;32mif\u001b[0m \u001b[0mfstr_list\u001b[0m \u001b[1;32mis\u001b[0m \u001b[1;32mnot\u001b[0m \u001b[1;32mNone\u001b[0m \u001b[1;32mand\u001b[0m \u001b[0mi_\u001b[0m\u001b[1;33m.\u001b[0m\u001b[0mop\u001b[0m\u001b[1;33m.\u001b[0m\u001b[0mname\u001b[0m\u001b[1;33m.\u001b[0m\u001b[0mfind\u001b[0m\u001b[1;33m(\u001b[0m\u001b[0mlayer_name\u001b[0m\u001b[1;33m)\u001b[0m \u001b[1;33m==\u001b[0m \u001b[1;33m-\u001b[0m\u001b[1;36m1\u001b[0m\u001b[1;33m:\u001b[0m\u001b[1;33m\u001b[0m\u001b[1;33m\u001b[0m\u001b[0m\n\u001b[0m\u001b[0;32m    131\u001b[0m                         \u001b[1;32mcontinue\u001b[0m\u001b[1;33m\u001b[0m\u001b[1;33m\u001b[0m\u001b[0m\n\u001b[0;32m    132\u001b[0m                     \u001b[1;32mif\u001b[0m \u001b[0mi_\u001b[0m\u001b[1;33m.\u001b[0m\u001b[0mop\u001b[0m \u001b[1;32min\u001b[0m \u001b[0mvisited\u001b[0m \u001b[1;32mor\u001b[0m \u001b[0mi_\u001b[0m\u001b[1;33m.\u001b[0m\u001b[0mop\u001b[0m \u001b[1;32mnot\u001b[0m \u001b[1;32min\u001b[0m \u001b[0minference_nodeset\u001b[0m\u001b[1;33m:\u001b[0m\u001b[1;33m\u001b[0m\u001b[1;33m\u001b[0m\u001b[0m\n",
      "\u001b[1;31mTypeError\u001b[0m: must be str, not NoneType"
     ]
    }
   ],
   "source": [
    "model = tf.keras.models.load_model(r\"C:\\Users\\ee527\\Dementia_Vision_beta\\model\\test.h5\")\n",
    "onnx_model = keras2onnx.convert_keras(model, model.name)"
   ]
  },
  {
   "cell_type": "code",
   "execution_count": null,
   "id": "aea9ad41",
   "metadata": {},
   "outputs": [],
   "source": [
    "temp_model_file = r'C:\\Users\\ee527\\Dementia_Vision_beta\\model\\test.onnx'\n",
    "keras2onnx.save_model(onnx_model, temp_model_file)"
   ]
  },
  {
   "cell_type": "markdown",
   "id": "c3c1c277",
   "metadata": {},
   "source": [
    "## test onnx model"
   ]
  },
  {
   "cell_type": "code",
   "execution_count": 1,
   "id": "25a543ba",
   "metadata": {},
   "outputs": [],
   "source": [
    "import onnx\n",
    "model = onnx.load(r\"C:\\Users\\ee527\\Dementia_Vision_beta\\model\\test.onnx\")"
   ]
  },
  {
   "cell_type": "code",
   "execution_count": 2,
   "id": "9b7b5470",
   "metadata": {},
   "outputs": [
    {
     "name": "stdout",
     "output_type": "stream",
     "text": [
      "None\n",
      "--------------------------------------------------\n",
      "Model :\n",
      "\n",
      "graph functional_1 (\n",
      "  %input_1[FLOAT, Nx128x128x3]\n",
      ") initializers (\n",
      "  %dense/kernel:0[FLOAT, 512x1]\n",
      "  %dense/bias:0[FLOAT, 1]\n",
      "  %scale[FLOAT, 512]\n",
      "  %bias[FLOAT, 512]\n",
      "  %mean[FLOAT, 512]\n",
      "  %var[FLOAT, 512]\n",
      "  %block5_pool/MaxPool:0_reshape_start[INT64, 2]\n",
      "  %block5_conv4/kernel:0[FLOAT, 512x512x3x3]\n",
      "  %block5_conv4/bias:0[FLOAT, 512]\n",
      "  %block5_conv3/kernel:0[FLOAT, 512x512x3x3]\n",
      "  %block5_conv3/bias:0[FLOAT, 512]\n",
      "  %block5_conv2/kernel:0[FLOAT, 512x512x3x3]\n",
      "  %block5_conv2/bias:0[FLOAT, 512]\n",
      "  %block5_conv1/kernel:0[FLOAT, 512x512x3x3]\n",
      "  %block5_conv1/bias:0[FLOAT, 512]\n",
      "  %block4_conv4/kernel:0[FLOAT, 512x512x3x3]\n",
      "  %block4_conv4/bias:0[FLOAT, 512]\n",
      "  %block4_conv3/kernel:0[FLOAT, 512x512x3x3]\n",
      "  %block4_conv3/bias:0[FLOAT, 512]\n",
      "  %block4_conv2/kernel:0[FLOAT, 512x512x3x3]\n",
      "  %block4_conv2/bias:0[FLOAT, 512]\n",
      "  %block4_conv1/kernel:0[FLOAT, 512x256x3x3]\n",
      "  %block4_conv1/bias:0[FLOAT, 512]\n",
      "  %block3_conv4/kernel:0[FLOAT, 256x256x3x3]\n",
      "  %block3_conv4/bias:0[FLOAT, 256]\n",
      "  %block3_conv3/kernel:0[FLOAT, 256x256x3x3]\n",
      "  %block3_conv3/bias:0[FLOAT, 256]\n",
      "  %block3_conv2/kernel:0[FLOAT, 256x256x3x3]\n",
      "  %block3_conv2/bias:0[FLOAT, 256]\n",
      "  %block3_conv1/kernel:0[FLOAT, 256x128x3x3]\n",
      "  %block3_conv1/bias:0[FLOAT, 256]\n",
      "  %block2_conv2/kernel:0[FLOAT, 128x128x3x3]\n",
      "  %block2_conv2/bias:0[FLOAT, 128]\n",
      "  %block2_conv1/kernel:0[FLOAT, 128x64x3x3]\n",
      "  %block2_conv1/bias:0[FLOAT, 128]\n",
      "  %block1_conv2/kernel:0[FLOAT, 64x64x3x3]\n",
      "  %block1_conv2/bias:0[FLOAT, 64]\n",
      "  %block1_conv1/kernel:0[FLOAT, 64x3x3x3]\n",
      "  %block1_conv1/bias:0[FLOAT, 64]\n",
      ") {\n",
      "  %adjusted_input15 = Transpose[perm = [0, 3, 1, 2]](%input_1)\n",
      "  %convolution_output15 = Conv[auto_pad = 'NOTSET', dilations = [1, 1], group = 1, kernel_shape = [3, 3], pads = [1, 1, 1, 1], strides = [1, 1]](%adjusted_input15, %block1_conv1/kernel:0, %block1_conv1/bias:0)\n",
      "  %block1_conv1/Relu:0 = Relu(%convolution_output15)\n",
      "  %convolution_output14 = Conv[auto_pad = 'NOTSET', dilations = [1, 1], group = 1, kernel_shape = [3, 3], pads = [1, 1, 1, 1], strides = [1, 1]](%block1_conv1/Relu:0, %block1_conv2/kernel:0, %block1_conv2/bias:0)\n",
      "  %block1_conv2/Relu:0 = Relu(%convolution_output14)\n",
      "  %block1_conv2/Relu:0_pooling0 = MaxPool[auto_pad = 'VALID', ceil_mode = 0, kernel_shape = [2, 2], strides = [2, 2]](%block1_conv2/Relu:0)\n",
      "  %convolution_output13 = Conv[auto_pad = 'NOTSET', dilations = [1, 1], group = 1, kernel_shape = [3, 3], pads = [1, 1, 1, 1], strides = [1, 1]](%block1_conv2/Relu:0_pooling0, %block2_conv1/kernel:0, %block2_conv1/bias:0)\n",
      "  %block2_conv1/Relu:0 = Relu(%convolution_output13)\n",
      "  %convolution_output12 = Conv[auto_pad = 'NOTSET', dilations = [1, 1], group = 1, kernel_shape = [3, 3], pads = [1, 1, 1, 1], strides = [1, 1]](%block2_conv1/Relu:0, %block2_conv2/kernel:0, %block2_conv2/bias:0)\n",
      "  %block2_conv2/Relu:0 = Relu(%convolution_output12)\n",
      "  %block2_conv2/Relu:0_pooling0 = MaxPool[auto_pad = 'VALID', ceil_mode = 0, kernel_shape = [2, 2], strides = [2, 2]](%block2_conv2/Relu:0)\n",
      "  %convolution_output11 = Conv[auto_pad = 'NOTSET', dilations = [1, 1], group = 1, kernel_shape = [3, 3], pads = [1, 1, 1, 1], strides = [1, 1]](%block2_conv2/Relu:0_pooling0, %block3_conv1/kernel:0, %block3_conv1/bias:0)\n",
      "  %block3_conv1/Relu:0 = Relu(%convolution_output11)\n",
      "  %convolution_output10 = Conv[auto_pad = 'NOTSET', dilations = [1, 1], group = 1, kernel_shape = [3, 3], pads = [1, 1, 1, 1], strides = [1, 1]](%block3_conv1/Relu:0, %block3_conv2/kernel:0, %block3_conv2/bias:0)\n",
      "  %block3_conv2/Relu:0 = Relu(%convolution_output10)\n",
      "  %convolution_output9 = Conv[auto_pad = 'NOTSET', dilations = [1, 1], group = 1, kernel_shape = [3, 3], pads = [1, 1, 1, 1], strides = [1, 1]](%block3_conv2/Relu:0, %block3_conv3/kernel:0, %block3_conv3/bias:0)\n",
      "  %block3_conv3/Relu:0 = Relu(%convolution_output9)\n",
      "  %convolution_output8 = Conv[auto_pad = 'NOTSET', dilations = [1, 1], group = 1, kernel_shape = [3, 3], pads = [1, 1, 1, 1], strides = [1, 1]](%block3_conv3/Relu:0, %block3_conv4/kernel:0, %block3_conv4/bias:0)\n",
      "  %block3_conv4/Relu:0 = Relu(%convolution_output8)\n",
      "  %block3_conv4/Relu:0_pooling0 = MaxPool[auto_pad = 'VALID', ceil_mode = 0, kernel_shape = [2, 2], strides = [2, 2]](%block3_conv4/Relu:0)\n",
      "  %convolution_output7 = Conv[auto_pad = 'NOTSET', dilations = [1, 1], group = 1, kernel_shape = [3, 3], pads = [1, 1, 1, 1], strides = [1, 1]](%block3_conv4/Relu:0_pooling0, %block4_conv1/kernel:0, %block4_conv1/bias:0)\n",
      "  %block4_conv1/Relu:0 = Relu(%convolution_output7)\n",
      "  %convolution_output6 = Conv[auto_pad = 'NOTSET', dilations = [1, 1], group = 1, kernel_shape = [3, 3], pads = [1, 1, 1, 1], strides = [1, 1]](%block4_conv1/Relu:0, %block4_conv2/kernel:0, %block4_conv2/bias:0)\n",
      "  %block4_conv2/Relu:0 = Relu(%convolution_output6)\n",
      "  %convolution_output5 = Conv[auto_pad = 'NOTSET', dilations = [1, 1], group = 1, kernel_shape = [3, 3], pads = [1, 1, 1, 1], strides = [1, 1]](%block4_conv2/Relu:0, %block4_conv3/kernel:0, %block4_conv3/bias:0)\n",
      "  %block4_conv3/Relu:0 = Relu(%convolution_output5)\n",
      "  %convolution_output4 = Conv[auto_pad = 'NOTSET', dilations = [1, 1], group = 1, kernel_shape = [3, 3], pads = [1, 1, 1, 1], strides = [1, 1]](%block4_conv3/Relu:0, %block4_conv4/kernel:0, %block4_conv4/bias:0)\n",
      "  %block4_conv4/Relu:0 = Relu(%convolution_output4)\n",
      "  %block4_conv4/Relu:0_pooling0 = MaxPool[auto_pad = 'VALID', ceil_mode = 0, kernel_shape = [2, 2], strides = [2, 2]](%block4_conv4/Relu:0)\n",
      "  %convolution_output3 = Conv[auto_pad = 'NOTSET', dilations = [1, 1], group = 1, kernel_shape = [3, 3], pads = [1, 1, 1, 1], strides = [1, 1]](%block4_conv4/Relu:0_pooling0, %block5_conv1/kernel:0, %block5_conv1/bias:0)\n",
      "  %block5_conv1/Relu:0 = Relu(%convolution_output3)\n",
      "  %convolution_output2 = Conv[auto_pad = 'NOTSET', dilations = [1, 1], group = 1, kernel_shape = [3, 3], pads = [1, 1, 1, 1], strides = [1, 1]](%block5_conv1/Relu:0, %block5_conv2/kernel:0, %block5_conv2/bias:0)\n",
      "  %block5_conv2/Relu:0 = Relu(%convolution_output2)\n",
      "  %convolution_output1 = Conv[auto_pad = 'NOTSET', dilations = [1, 1], group = 1, kernel_shape = [3, 3], pads = [1, 1, 1, 1], strides = [1, 1]](%block5_conv2/Relu:0, %block5_conv3/kernel:0, %block5_conv3/bias:0)\n",
      "  %block5_conv3/Relu:0 = Relu(%convolution_output1)\n",
      "  %convolution_output = Conv[auto_pad = 'NOTSET', dilations = [1, 1], group = 1, kernel_shape = [3, 3], pads = [1, 1, 1, 1], strides = [1, 1]](%block5_conv3/Relu:0, %block5_conv4/kernel:0, %block5_conv4/bias:0)\n",
      "  %block5_conv4/Relu:0 = Relu(%convolution_output)\n",
      "  %block5_conv4/Relu:0_pooling0 = MaxPool[auto_pad = 'VALID', ceil_mode = 0, kernel_shape = [2, 2], strides = [2, 2]](%block5_conv4/Relu:0)\n",
      "  %block5_pool/MaxPool:0_pooling0 = GlobalMaxPool(%block5_conv4/Relu:0_pooling0)\n",
      "  %block5_pool/MaxPool:0_transpose0 = Transpose[perm = [0, 2, 3, 1]](%block5_pool/MaxPool:0_pooling0)\n",
      "  %block5_pool/MaxPool:0_reshape0 = Reshape(%block5_pool/MaxPool:0_transpose0, %block5_pool/MaxPool:0_reshape_start)\n",
      "  %batch_normalization/batchnorm/add_1:0 = BatchNormalization[epsilon = 9.99999997475243e-07, momentum = 0.990000009536743](%block5_pool/MaxPool:0_reshape0, %scale, %bias, %mean, %var)\n",
      "  %dense0 = MatMul(%batch_normalization/batchnorm/add_1:0, %dense/kernel:0)\n",
      "  %biased_tensor_name = Add(%dense0, %dense/bias:0)\n",
      "  %dense = Sigmoid(%biased_tensor_name)\n",
      "  return %dense\n",
      "}\n"
     ]
    }
   ],
   "source": [
    "print(onnx.checker.check_model(model))\n",
    "print('-'*50)\n",
    "print('Model :\\n\\n{}'.format(onnx.helper.printable_graph(model.graph)))"
   ]
  },
  {
   "cell_type": "markdown",
   "id": "111edafc",
   "metadata": {},
   "source": [
    "## compare keras and onnx"
   ]
  },
  {
   "cell_type": "code",
   "execution_count": 42,
   "id": "d2ed1c2a",
   "metadata": {},
   "outputs": [],
   "source": [
    "import onnxruntime as ort\n",
    "ort_session = ort.InferenceSession(r\"C:\\Users\\ee527\\Dementia_Vision_beta\\model\\test.onnx\")"
   ]
  },
  {
   "cell_type": "code",
   "execution_count": 49,
   "id": "e877121c",
   "metadata": {},
   "outputs": [],
   "source": [
    "from PIL import Image\n",
    "import numpy as np\n",
    "from skimage import transform\n",
    "import os\n",
    "import shutil\n",
    "import tensorflow as tf\n",
    "from tensorflow import keras\n",
    "\n",
    "def load(filename):\n",
    "    \n",
    "    np_image = Image.open(filename)\n",
    "    np_image = np.array(np_image).astype('float32')/255\n",
    "    np_image = transform.resize(np_image, (128,128, 3))\n",
    "    np_image = np.expand_dims(np_image, axis=0)\n",
    "    return np_image\n",
    "\n",
    "image_path = r'D:\\Dementia_Data_Preprocessing\\testing_data\\all\\20210825_t090501.jpg'\n",
    "model_path = r\"C:\\Users\\ee527\\Dementia_Vision_beta\\model\\test.h5\"\n",
    "model = tf.keras.models.load_model(model_path)\n",
    "image = load(image_path)"
   ]
  },
  {
   "cell_type": "code",
   "execution_count": 47,
   "id": "46004362",
   "metadata": {},
   "outputs": [
    {
     "name": "stdout",
     "output_type": "stream",
     "text": [
      "[[0.02840961]]\n",
      "0.0797576904296875\n"
     ]
    }
   ],
   "source": [
    "import time\n",
    "\n",
    "a = time.time()\n",
    "predict = model.predict(image)\n",
    "b = time.time()\n",
    "print(predict)\n",
    "print(b-a)"
   ]
  },
  {
   "cell_type": "code",
   "execution_count": 48,
   "id": "bab9c2b0",
   "metadata": {},
   "outputs": [
    {
     "name": "stdout",
     "output_type": "stream",
     "text": [
      "[[0.02840963]]\n",
      "0.03590559959411621\n"
     ]
    }
   ],
   "source": [
    "import time\n",
    "\n",
    "a = time.time()\n",
    "outputs = ort_session.run(None, {'input_1': image})\n",
    "b = time.time()\n",
    "print(outputs[0])\n",
    "print(b-a)"
   ]
  }
 ],
 "metadata": {
  "kernelspec": {
   "display_name": "Python 3 (ipykernel)",
   "language": "python",
   "name": "python3"
  },
  "language_info": {
   "codemirror_mode": {
    "name": "ipython",
    "version": 3
   },
   "file_extension": ".py",
   "mimetype": "text/x-python",
   "name": "python",
   "nbconvert_exporter": "python",
   "pygments_lexer": "ipython3",
   "version": "3.8.12"
  }
 },
 "nbformat": 4,
 "nbformat_minor": 5
}
