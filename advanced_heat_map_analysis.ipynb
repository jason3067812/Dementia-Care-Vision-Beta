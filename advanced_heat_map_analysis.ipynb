{
 "cells": [
  {
   "cell_type": "code",
   "execution_count": 1,
   "id": "91566586",
   "metadata": {},
   "outputs": [],
   "source": [
    "import numpy as np\n",
    "import tensorflow as tf\n",
    "from tensorflow import keras\n",
    "\n",
    "import matplotlib.pyplot as plt\n",
    "import matplotlib.cm as cm\n",
    "import cv2\n",
    "from matplotlib import pyplot\n",
    "from matplotlib.pyplot import MultipleLocator\n",
    "from pylab import *"
   ]
  },
  {
   "cell_type": "code",
   "execution_count": 2,
   "id": "d1f1ee4f",
   "metadata": {},
   "outputs": [],
   "source": [
    "def make_gradcam_heatmap(img_array, model, last_conv_layer_name, pred_index=None):\n",
    "    # First, we create a model that maps the input image to the activations\n",
    "    # of the last conv layer as well as the output predictions\n",
    "    grad_model = tf.keras.models.Model(\n",
    "        [model.inputs], [model.get_layer(last_conv_layer_name).output, model.output]\n",
    "    )\n",
    "\n",
    "    # Then, we compute the gradient of the top predicted class for our input image\n",
    "    # with respect to the activations of the last conv layer\n",
    "    with tf.GradientTape() as tape:\n",
    "        last_conv_layer_output, preds = grad_model(img_array)\n",
    "        if pred_index is None:\n",
    "            pred_index = tf.argmax(preds[0])\n",
    "        class_channel = preds[:, pred_index]\n",
    "\n",
    "    # This is the gradient of the output neuron (top predicted or chosen)\n",
    "    # with regard to the output feature map of the last conv layer\n",
    "    grads = tape.gradient(class_channel, last_conv_layer_output)\n",
    "\n",
    "    # This is a vector where each entry is the mean intensity of the gradient\n",
    "    # over a specific feature map channel\n",
    "    pooled_grads = tf.reduce_mean(grads, axis=(0, 1, 2))\n",
    "\n",
    "    # We multiply each channel in the feature map array\n",
    "    # by \"how important this channel is\" with regard to the top predicted class\n",
    "    # then sum all the channels to obtain the heatmap class activation\n",
    "    last_conv_layer_output = last_conv_layer_output[0]\n",
    "    heatmap = last_conv_layer_output @ pooled_grads[..., tf.newaxis]\n",
    "    heatmap = tf.squeeze(heatmap)\n",
    "\n",
    "    # For visualization purpose, we will also normalize the heatmap between 0 & 1\n",
    "    heatmap = tf.maximum(heatmap, 0) / tf.math.reduce_max(heatmap)\n",
    "    return heatmap.numpy()\n",
    "\n",
    "def save_and_display_gradcam(img, heatmap, cmap_type, alpha):\n",
    "    \n",
    "\n",
    "    # Rescale heatmap to a range 0-255\n",
    "    heatmap = np.uint8(255 * heatmap)\n",
    "\n",
    "    # Use jet colormap to colorize heatmap\n",
    "    jet = cm.get_cmap(cmap_type)\n",
    "\n",
    "    # Use RGB values of the colormap\n",
    "    jet_colors = jet(np.arange(256))[:, :3]\n",
    "    jet_heatmap = jet_colors[heatmap]\n",
    "\n",
    "    # Create an image with RGB colorized heatmap\n",
    "    jet_heatmap = keras.preprocessing.image.array_to_img(jet_heatmap)\n",
    "    jet_heatmap_img = jet_heatmap.resize((img.shape[1], img.shape[0]))\n",
    "    jet_heatmap = keras.preprocessing.image.img_to_array(jet_heatmap_img)\n",
    "\n",
    "    # Superimpose the heatmap on original image\n",
    "    superimposed_img = jet_heatmap * alpha + img\n",
    "    superimposed_img = keras.preprocessing.image.array_to_img(superimposed_img)\n",
    "\n",
    "    return jet_heatmap_img, superimposed_img\n",
    "    "
   ]
  },
  {
   "cell_type": "markdown",
   "id": "3b96771d",
   "metadata": {},
   "source": [
    "## start here"
   ]
  },
  {
   "cell_type": "code",
   "execution_count": 3,
   "id": "6906d26d",
   "metadata": {},
   "outputs": [
    {
     "name": "stdout",
     "output_type": "stream",
     "text": [
      "0.9990165\n",
      "label: 1\n"
     ]
    }
   ],
   "source": [
    "model_path = r'C:\\Users\\ee527\\Dementia_Vision_beta\\model\\test.h5'\n",
    "\n",
    "# D:\\Dementia_Data_Preprocessing\\main\\label_image\\4\\20210819_t050450.jpg\n",
    "test_img = r\"D:\\Dementia_Data_Preprocessing\\main\\out_image\\20211023_t041902.jpg\"\n",
    "\n",
    "\n",
    "image = cv2.imread(test_img)\n",
    "INPUT_SIZE = 128\n",
    "image = cv2.resize(image, (INPUT_SIZE,INPUT_SIZE))\n",
    "image = image.astype('float32') / 255\n",
    "image = np.expand_dims(image, axis=0)\n",
    "model = tf.keras.models.load_model(model_path)\n",
    "preds = model.predict(image) \n",
    "print(preds[0][0])\n",
    "\n",
    "if preds[0][0]>0.5:\n",
    "    label = 1\n",
    "else:\n",
    "    label = 0\n",
    "    \n",
    "print(\"label:\", label)"
   ]
  },
  {
   "cell_type": "code",
   "execution_count": 4,
   "id": "3bacc0c1",
   "metadata": {},
   "outputs": [
    {
     "name": "stdout",
     "output_type": "stream",
     "text": [
      "input_1\n",
      "block1_conv1\n",
      "block1_conv2\n",
      "block1_pool\n",
      "block2_conv1\n",
      "block2_conv2\n",
      "block2_pool\n",
      "block3_conv1\n",
      "block3_conv2\n",
      "block3_conv3\n",
      "block3_conv4\n",
      "block3_pool\n",
      "block4_conv1\n",
      "block4_conv2\n",
      "block4_conv3\n",
      "block4_conv4\n",
      "block4_pool\n",
      "block5_conv1\n",
      "block5_conv2\n",
      "block5_conv3\n",
      "block5_conv4\n",
      "block5_pool\n",
      "global_max_pooling2d\n",
      "dropout\n",
      "batch_normalization\n",
      "dropout_1\n",
      "dense\n"
     ]
    }
   ],
   "source": [
    "# see all layer\n",
    "for idx in range(len(model.layers)):\n",
    "    print(model.get_layer(index = idx).name)"
   ]
  },
  {
   "cell_type": "markdown",
   "id": "9c60852a",
   "metadata": {},
   "source": [
    "## show heat map\n",
    "### color map type:\n",
    "![jupyter](img/color_map.png)"
   ]
  },
  {
   "cell_type": "code",
   "execution_count": 13,
   "id": "aaf04cc0",
   "metadata": {},
   "outputs": [
    {
     "data": {
      "image/png": "[encoded data removed]",
      "text/plain": [
       "<Figure size 432x288 with 3 Axes>"
      ]
     },
     "metadata": {
      "needs_background": "light"
     },
     "output_type": "display_data"
    }
   ],
   "source": [
    "# Prepare image\n",
    "INPUT_SIZE = 128\n",
    "model_path = r'C:\\Users\\ee527\\Dementia_Vision_beta\\model\\test.h5'\n",
    "test_img = r\"D:\\Dementia_Data_Preprocessing\\main\\out_image\\20211023_t022918.jpg\"\n",
    "\n",
    "image = cv2.imread(test_img)\n",
    "image2 = cv2.resize(image, (INPUT_SIZE,INPUT_SIZE))\n",
    "\n",
    "image3 = image2.astype('float32') / 255\n",
    "img_array = np.expand_dims(image3, axis=0)\n",
    "\n",
    "model = tf.keras.models.load_model(model_path)\n",
    "last_conv_layer_name = \"block5_conv3\"\n",
    "\n",
    "# Generate class activation heatmap\n",
    "heatmap = make_gradcam_heatmap(img_array, model, last_conv_layer_name)\n",
    "\n",
    "        \n",
    "# Display heatmap\n",
    "\n",
    "# rescale to original size\n",
    "heatmap = cv2.resize(heatmap, (32,24))\n",
    "\n",
    "# 原圖反轉黑白，顯示效果較明顯\n",
    "dst = 255 - image\n",
    "heat, combine = save_and_display_gradcam(image, heatmap, cmap_type = \"winter\", alpha = 0.3)\n",
    "\n",
    "\n",
    "\n",
    "ax = plt.gca()\n",
    "plt.subplot(221)\n",
    "imshow(image)\n",
    "ax = plt.gca()\n",
    "ax.yaxis.set_major_locator(MultipleLocator(8))\n",
    "\n",
    "plt.subplot(222)\n",
    "ax = plt.gca()\n",
    "ax.yaxis.set_major_locator(MultipleLocator(8))\n",
    "imshow(heat)\n",
    "\n",
    "\n",
    "plt.subplot(212)\n",
    "imshow(combine)\n",
    "ax = plt.gca()\n",
    "ax.yaxis.set_major_locator(MultipleLocator(8))\n",
    "plt.show()"
   ]
  },
  {
   "cell_type": "code",
   "execution_count": 67,
   "id": "6574e7e8",
   "metadata": {},
   "outputs": [],
   "source": [
    "heat.save(\"D:/heatmap/heat.png\")\n",
    "combine.save(\"D:/heatmap/combine.png\")"
   ]
  },
  {
   "cell_type": "markdown",
   "id": "b7aefe75",
   "metadata": {},
   "source": [
    "## create mask and bbox"
   ]
  },
  {
   "cell_type": "code",
   "execution_count": 68,
   "id": "c842467d",
   "metadata": {},
   "outputs": [
    {
     "name": "stdout",
     "output_type": "stream",
     "text": [
      "30 20 2 4\n",
      "2 4 30 12\n",
      "29 0 3 4\n",
      "0 0 2 2\n"
     ]
    },
    {
     "data": {
      "text/plain": [
       "True"
      ]
     },
     "execution_count": 68,
     "metadata": {},
     "output_type": "execute_result"
    }
   ],
   "source": [
    "import cv2\n",
    "\n",
    "# Grayscale then Otsu's threshold\n",
    "image2 = cv2.imread('D:/heatmap/heat.png')\n",
    "\n",
    "image_copy = image2\n",
    "\n",
    "gray = cv2.cvtColor(image2, cv2.COLOR_BGR2GRAY)\n",
    "thresh = cv2.threshold(gray, 0, 255, cv2.THRESH_BINARY + cv2.THRESH_OTSU)[1]\n",
    "\n",
    "# Find contours\n",
    "cnts = cv2.findContours(thresh, cv2.RETR_EXTERNAL, cv2.CHAIN_APPROX_SIMPLE)\n",
    "cnts = cnts[0] if len(cnts) == 2 else cnts[1]\n",
    "for c in cnts:\n",
    "    x,y,w,h = cv2.boundingRect(c)\n",
    "    cv2.rectangle(image_copy, (x, y), (x + w, y + h), (0,255,255), 1)  # 2畫線, -1 填滿\n",
    "    print(x,y,w,h)\n",
    "\n",
    "\n",
    "gray1 = cv2.cvtColor(image2, cv2.COLOR_BGR2GRAY)\n",
    "final = cv2.bitwise_and(gray1, thresh)\n",
    "\n",
    "#cv2.imwrite(\"D:/heatmap/final.png\",final)\n",
    "cv2.imwrite(\"D:/heatmap/mask.png\",thresh)  \n",
    "cv2.imwrite(\"D:/heatmap/bbox.png\",image_copy) \n",
    "\n",
    "\n",
    "# cv2.imshow('thresh', thresh)\n",
    "# cv2.imshow('image', image_copy)\n",
    "# cv2.imshow('final', final)\n",
    "# cv2.waitKey()"
   ]
  },
  {
   "cell_type": "markdown",
   "id": "c0411ca0",
   "metadata": {},
   "source": [
    "## get body location"
   ]
  },
  {
   "cell_type": "code",
   "execution_count": 9,
   "id": "40ba1a24",
   "metadata": {},
   "outputs": [
    {
     "name": "stdout",
     "output_type": "stream",
     "text": [
      "(24, 32, 3)\n",
      "0 2 32 17\n",
      "2 5 0 0\n"
     ]
    }
   ],
   "source": [
    "import cv2\n",
    "\n",
    "# Grayscale then Otsu's threshold\n",
    "image = cv2.imread('D:/test.png')\n",
    "\n",
    "size = image.shape\n",
    "print(size)\n",
    "\n",
    "image_copy = image\n",
    "\n",
    "gray = cv2.cvtColor(image, cv2.COLOR_BGR2GRAY)\n",
    "thresh = cv2.threshold(gray, 0, 255, cv2.THRESH_BINARY + cv2.THRESH_OTSU)[1]\n",
    "\n",
    "# Find contours\n",
    "cnts = cv2.findContours(thresh, cv2.RETR_EXTERNAL, cv2.CHAIN_APPROX_SIMPLE)\n",
    "cnts = cnts[0] if len(cnts) == 2 else cnts[1]\n",
    "\n",
    "for c in cnts:\n",
    "    x,y,w,h = cv2.boundingRect(c)\n",
    "    print(x,y,w,h)\n",
    "    \n",
    "# 上\n",
    "up = y\n",
    "# 下\n",
    "down = 24 - (y+h)\n",
    "# 左\n",
    "left = x\n",
    "#右\n",
    "right = 32-(x+w)\n",
    "\n",
    "print(up,down,left, right)"
   ]
  },
  {
   "cell_type": "markdown",
   "id": "571604dc",
   "metadata": {},
   "source": [
    "## start run path"
   ]
  },
  {
   "cell_type": "code",
   "execution_count": 3,
   "id": "72f1625c",
   "metadata": {},
   "outputs": [
    {
     "name": "stdout",
     "output_type": "stream",
     "text": [
      "finish\n",
      "total number:1\n"
     ]
    }
   ],
   "source": [
    "import cv2\n",
    "import os\n",
    "import random\n",
    "import numpy as np\n",
    "\n",
    "# 修改路徑\n",
    "directory_name = r\"D:\\Dementia_Data_Preprocessing\\main\\out_image\"\n",
    "new_directory_name = r\"D:\\test3\\heat\"\n",
    "new_directory_name_2 = r\"D:\\test3\\combine\"\n",
    "new_directory_name_3 = r\"D:\\test3\\bbox\"\n",
    "new_directory_name_4 = r\"D:\\test3\\mask\"\n",
    "\n",
    "model_path = r'C:\\Users\\ee527\\Dementia_Vision_beta\\model\\test.h5'\n",
    "INPUT_SIZE = 128\n",
    "model = tf.keras.models.load_model(model_path)\n",
    "last_conv_layer_name = \"block5_conv2\"\n",
    "\n",
    "count = 0\n",
    "for filename in os.listdir(directory_name):\n",
    "    \n",
    "    \n",
    "    count+=1\n",
    "  \n",
    "    \n",
    "    image = cv2.imread(directory_name + \"/\" + filename)\n",
    "    image_copy = image\n",
    "    image2 = cv2.resize(image, (INPUT_SIZE,INPUT_SIZE))\n",
    "\n",
    "    image3 = image2.astype('float32') / 255\n",
    "    img_array = np.expand_dims(image3, axis=0)\n",
    "\n",
    "    \n",
    "    # Generate class activation heatmap\n",
    "    heatmap = make_gradcam_heatmap(img_array, model, last_conv_layer_name)\n",
    "\n",
    "    # rescale to original size\n",
    "    heatmap = cv2.resize(heatmap, (32,24))\n",
    "    heat, combine = save_and_display_gradcam(image, heatmap, cmap_type = \"winter\", alpha = 0.3)\n",
    "    #heat, combine = save_and_display_gradcam(image, heatmap, cmap_type = \"jet\", alpha = 0.3)\n",
    "    \n",
    "    heat.save(new_directory_name + \"/\" + filename)\n",
    "    combine.save(new_directory_name_2 + \"/\" + filename)\n",
    "    \n",
    "    heat = np.array(heat)\n",
    "    gray = cv2.cvtColor(heat, cv2.COLOR_BGR2GRAY)\n",
    "    thresh = cv2.threshold(gray, 0, 255, cv2.THRESH_BINARY + cv2.THRESH_OTSU)[1]\n",
    "    \n",
    "    # Find contours\n",
    "    cnts = cv2.findContours(thresh, cv2.RETR_EXTERNAL, cv2.CHAIN_APPROX_SIMPLE)\n",
    "    cnts = cnts[0] if len(cnts) == 2 else cnts[1]\n",
    "    for c in cnts:\n",
    "        x,y,w,h = cv2.boundingRect(c)\n",
    "        cv2.rectangle(image_copy, (x, y), (x + w, y + h), (0,255,255), 1)  # 2畫線, -1 填滿    \n",
    "    \n",
    "    #gray1 = cv2.cvtColor(image, cv2.COLOR_BGR2GRAY)\n",
    "    \n",
    "    #final = cv2.bitwise_and(gray1, thresh)\n",
    "        \n",
    "    cv2.imwrite(new_directory_name_3 + \"/\" + filename, image_copy)\n",
    "    cv2.imwrite(new_directory_name_4 + \"/\" + filename, thresh)\n",
    "    \n",
    "print(\"finish\")\n",
    "print(f\"total number:{count}\")"
   ]
  },
  {
   "cell_type": "code",
   "execution_count": null,
   "id": "4fc4c773",
   "metadata": {},
   "outputs": [],
   "source": []
  }
 ],
 "metadata": {
  "kernelspec": {
   "display_name": "Python 3 (ipykernel)",
   "language": "python",
   "name": "python3"
  },
  "language_info": {
   "codemirror_mode": {
    "name": "ipython",
    "version": 3
   },
   "file_extension": ".py",
   "mimetype": "text/x-python",
   "name": "python",
   "nbconvert_exporter": "python",
   "pygments_lexer": "ipython3",
   "version": "3.8.12"
  }
 },
 "nbformat": 4,
 "nbformat_minor": 5
}
