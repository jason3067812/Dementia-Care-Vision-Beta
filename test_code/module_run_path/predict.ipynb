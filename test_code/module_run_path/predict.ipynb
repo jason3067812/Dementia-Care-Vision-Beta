{
 "cells": [
  {
   "cell_type": "code",
   "execution_count": 1,
   "id": "5f93ccc3",
   "metadata": {},
   "outputs": [],
   "source": [
    "from PIL import Image\n",
    "import numpy as np\n",
    "from skimage import transform\n",
    "import os\n",
    "import shutil\n",
    "import tensorflow as tf\n",
    "from tensorflow import keras\n",
    "\n",
    "\n",
    "class Prediction:\n",
    "    \n",
    "   \n",
    "    def __init__(self,model_path):\n",
    "        \n",
    "        print(\"loading model...\\n\")\n",
    "        self.model = tf.keras.models.load_model(model_path)\n",
    "        print(\"finish\\n\")\n",
    "   \n",
    "        \n",
    "    def load(self, filename):\n",
    "    \n",
    "        np_image = Image.open(filename)\n",
    "        np_image = np.array(np_image).astype('float32')/255\n",
    "        np_image = transform.resize(np_image, (128,128, 3))\n",
    "        np_image = np.expand_dims(np_image, axis=0)\n",
    "        return np_image\n",
    "\n",
    "\n",
    "    def predict(self, image_path, threshold):\n",
    "        \n",
    "        image = self.load(image_path)\n",
    "        predict = self.model.predict(image)\n",
    "        #print(predict)\n",
    "        \n",
    "        if predict >= threshold: \n",
    "            \n",
    "            print(\"exist\")\n",
    "        \n",
    "        else:\n",
    "            print(\"abscent\")         "
   ]
  },
  {
   "cell_type": "code",
   "execution_count": 3,
   "id": "4bb4cab5",
   "metadata": {},
   "outputs": [
    {
     "name": "stdout",
     "output_type": "stream",
     "text": [
      "loading model...\n",
      "\n",
      "finish\n",
      "\n",
      "start run path!\n",
      "\n",
      "abscent\n",
      "abscent\n",
      "abscent\n",
      "abscent\n",
      "abscent\n",
      "exist\n",
      "abscent\n",
      "abscent\n",
      "exist\n",
      "exist\n",
      "exist\n",
      "abscent\n",
      "abscent\n",
      "abscent\n",
      "abscent\n",
      "abscent\n",
      "abscent\n",
      "abscent\n",
      "abscent\n",
      "abscent\n"
     ]
    }
   ],
   "source": [
    "model_path = r\"C:\\Users\\ee527\\Dementia_Vision_beta\\model\\test.h5\"\n",
    "a = Prediction(model_path)\n",
    "\n",
    "directory_name = r\"D:\\test6\\b\"\n",
    "\n",
    "print(\"start run path!\\n\")\n",
    "\n",
    "for file_name in os.listdir(directory_name):\n",
    "    \n",
    "    \n",
    "    \n",
    "    image_path = directory_name + \"/\" + file_name  \n",
    "    \n",
    "    a.predict(image_path, threshold=0.5)"
   ]
  },
  {
   "cell_type": "code",
   "execution_count": null,
   "id": "0565e06f",
   "metadata": {},
   "outputs": [],
   "source": []
  }
 ],
 "metadata": {
  "kernelspec": {
   "display_name": "Python 3 (ipykernel)",
   "language": "python",
   "name": "python3"
  },
  "language_info": {
   "codemirror_mode": {
    "name": "ipython",
    "version": 3
   },
   "file_extension": ".py",
   "mimetype": "text/x-python",
   "name": "python",
   "nbconvert_exporter": "python",
   "pygments_lexer": "ipython3",
   "version": "3.8.12"
  }
 },
 "nbformat": 4,
 "nbformat_minor": 5
}
