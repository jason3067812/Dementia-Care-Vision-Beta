{
 "cells": [
  {
   "cell_type": "code",
   "execution_count": null,
   "id": "d1096784",
   "metadata": {},
   "outputs": [],
   "source": [
    "import requests\n",
    "\n",
    "def lineNotifyMessage(token, msg):\n",
    "\n",
    "    headers = {\n",
    "        \"Authorization\": \"Bearer \" + token, \n",
    "        \"Content-Type\" : \"application/x-www-form-urlencoded\"\n",
    "    }\n",
    "\n",
    "    payload = {'message': msg }\n",
    "    r = requests.post(\"https://notify-api.line.me/api/notify\", headers = headers, params = payload)\n",
    "    return r.status_code"
   ]
  },
  {
   "cell_type": "code",
   "execution_count": null,
   "id": "3936a1ac",
   "metadata": {},
   "outputs": [],
   "source": [
    "if __name__ == \"__main__\":\n",
    "    \n",
    "    token = 'EUCg8ckDngkPLHqKJ81pgCf5JJs1g92L6lAHk4kEnMf' \n",
    "    message = '笨妹'\n",
    "    lineNotifyMessage(token, message)"
   ]
  }
 ],
 "metadata": {
  "kernelspec": {
   "display_name": "Python 3 (ipykernel)",
   "language": "python",
   "name": "python3"
  },
  "language_info": {
   "codemirror_mode": {
    "name": "ipython",
    "version": 3
   },
   "file_extension": ".py",
   "mimetype": "text/x-python",
   "name": "python",
   "nbconvert_exporter": "python",
   "pygments_lexer": "ipython3",
   "version": "3.8.12"
  }
 },
 "nbformat": 4,
 "nbformat_minor": 5
}
