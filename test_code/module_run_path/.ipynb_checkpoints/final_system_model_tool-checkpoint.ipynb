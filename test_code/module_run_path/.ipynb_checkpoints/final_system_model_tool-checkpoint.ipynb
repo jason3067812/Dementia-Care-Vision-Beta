{
 "cells": [
  {
   "cell_type": "code",
   "execution_count": null,
   "id": "3cdd2452",
   "metadata": {},
   "outputs": [],
   "source": [
    "from PIL import Image\n",
    "import numpy as np\n",
    "from skimage import transform\n",
    "import os\n",
    "import shutil\n",
    "import tensorflow as tf\n",
    "from tensorflow import keras\n",
    "import cv2\n",
    "\n",
    "class Prediction:\n",
    "    \n",
    "    def __init__(self,model_path):\n",
    "        \n",
    "        print(\"loading model...\\n\")\n",
    "        self.model = tf.keras.models.load_model(model_path)\n",
    "        print(\"finish\\n\")\n",
    "        \n",
    "    def load(self,image,size=(128,128,3)):\n",
    "      \n",
    "        np_image = np.array(image).astype('float32')/255\n",
    "        np_image = transform.resize(np_image, size)\n",
    "        np_image = np.expand_dims(np_image, axis=0)\n",
    "        return np_image\n",
    "\n",
    "    def predict_result(self,image,threshold):\n",
    "        outputs = self.model.predict(image)  \n",
    "\n",
    "        s = outputs[0][0]\n",
    "        if s >= threshold:  \n",
    "            status = 1\n",
    "            return s, status        \n",
    "        else:\n",
    "            status = 0\n",
    "            return s, status\n",
    "        \n",
    "        "
   ]
  }
 ],
 "metadata": {
  "kernelspec": {
   "display_name": "Python 3 (ipykernel)",
   "language": "python",
   "name": "python3"
  },
  "language_info": {
   "codemirror_mode": {
    "name": "ipython",
    "version": 3
   },
   "file_extension": ".py",
   "mimetype": "text/x-python",
   "name": "python",
   "nbconvert_exporter": "python",
   "pygments_lexer": "ipython3",
   "version": "3.8.12"
  }
 },
 "nbformat": 4,
 "nbformat_minor": 5
}
