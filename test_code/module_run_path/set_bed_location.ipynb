{
 "cells": [
  {
   "cell_type": "code",
   "execution_count": 2,
   "id": "4dc4e06e",
   "metadata": {},
   "outputs": [
    {
     "ename": "error",
     "evalue": "OpenCV(4.5.4-dev) D:\\a\\opencv-python\\opencv-python\\opencv\\modules\\imgproc\\src\\resize.cpp:4051: error: (-215:Assertion failed) !ssize.empty() in function 'cv::resize'\n",
     "output_type": "error",
     "traceback": [
      "\u001b[1;31m---------------------------------------------------------------------------\u001b[0m",
      "\u001b[1;31merror\u001b[0m                                     Traceback (most recent call last)",
      "\u001b[1;32m~\\AppData\\Local\\Temp/ipykernel_14516/1527671475.py\u001b[0m in \u001b[0;36m<module>\u001b[1;34m\u001b[0m\n\u001b[0;32m     47\u001b[0m \u001b[0mfilename\u001b[0m \u001b[1;33m=\u001b[0m  \u001b[1;34mr\"D:\\Dementia_Data_Preprocessing\\training_data\\20211023\\20211023_t091342.jpg\"\u001b[0m\u001b[1;33m\u001b[0m\u001b[1;33m\u001b[0m\u001b[0m\n\u001b[0;32m     48\u001b[0m \u001b[1;33m\u001b[0m\u001b[0m\n\u001b[1;32m---> 49\u001b[1;33m \u001b[0mpoint\u001b[0m \u001b[1;33m=\u001b[0m \u001b[0mSetPoints\u001b[0m\u001b[1;33m(\u001b[0m\u001b[0mfilename\u001b[0m\u001b[1;33m,\u001b[0m\u001b[1;36m10\u001b[0m\u001b[1;33m)\u001b[0m\u001b[1;33m\u001b[0m\u001b[1;33m\u001b[0m\u001b[0m\n\u001b[0m\u001b[0;32m     50\u001b[0m \u001b[0mprint\u001b[0m\u001b[1;33m(\u001b[0m\u001b[0mpoint\u001b[0m\u001b[1;33m)\u001b[0m\u001b[1;33m\u001b[0m\u001b[1;33m\u001b[0m\u001b[0m\n",
      "\u001b[1;32m~\\AppData\\Local\\Temp/ipykernel_14516/1527671475.py\u001b[0m in \u001b[0;36mSetPoints\u001b[1;34m(filename, scale)\u001b[0m\n\u001b[0;32m      5\u001b[0m \u001b[1;33m\u001b[0m\u001b[0m\n\u001b[0;32m      6\u001b[0m     \u001b[0mimg\u001b[0m \u001b[1;33m=\u001b[0m \u001b[0mcv2\u001b[0m\u001b[1;33m.\u001b[0m\u001b[0mimread\u001b[0m\u001b[1;33m(\u001b[0m\u001b[0mfilename\u001b[0m\u001b[1;33m)\u001b[0m\u001b[1;33m\u001b[0m\u001b[1;33m\u001b[0m\u001b[0m\n\u001b[1;32m----> 7\u001b[1;33m     \u001b[0mimg2\u001b[0m \u001b[1;33m=\u001b[0m \u001b[0mcv2\u001b[0m\u001b[1;33m.\u001b[0m\u001b[0mresize\u001b[0m\u001b[1;33m(\u001b[0m\u001b[0mimg\u001b[0m\u001b[1;33m,\u001b[0m\u001b[1;33m(\u001b[0m\u001b[1;36m32\u001b[0m\u001b[1;33m*\u001b[0m\u001b[0mscale\u001b[0m\u001b[1;33m,\u001b[0m\u001b[1;36m24\u001b[0m\u001b[1;33m*\u001b[0m\u001b[0mscale\u001b[0m\u001b[1;33m)\u001b[0m\u001b[1;33m)\u001b[0m\u001b[1;33m\u001b[0m\u001b[1;33m\u001b[0m\u001b[0m\n\u001b[0m\u001b[0;32m      8\u001b[0m \u001b[1;33m\u001b[0m\u001b[0m\n\u001b[0;32m      9\u001b[0m     \u001b[0mwindowname\u001b[0m \u001b[1;33m=\u001b[0m \u001b[1;34m\"test\"\u001b[0m\u001b[1;33m\u001b[0m\u001b[1;33m\u001b[0m\u001b[0m\n",
      "\u001b[1;31merror\u001b[0m: OpenCV(4.5.4-dev) D:\\a\\opencv-python\\opencv-python\\opencv\\modules\\imgproc\\src\\resize.cpp:4051: error: (-215:Assertion failed) !ssize.empty() in function 'cv::resize'\n"
     ]
    }
   ],
   "source": [
    "import cv2 \n",
    "import numpy as np\n",
    "\n",
    "def SetPoints(filename, scale):\n",
    "    \n",
    "    img = cv2.imread(filename)\n",
    "    img2 = cv2.resize(img,(32*scale,24*scale))\n",
    "\n",
    "    windowname = \"test\"\n",
    "    print('功能: Enter確定，q跳過，其它重试')\n",
    "    print('請依照左上右上左下右下順序點擊\\n')\n",
    "    points = []\n",
    "\n",
    "    def onMouse(event, x, y, flags, param):\n",
    "\n",
    "        if event == cv2.EVENT_LBUTTONDOWN:\n",
    "                        \n",
    "            cv2.circle(temp_img, (x, y), 3, (102, 217, 239), -1)\n",
    "            points.append([x, y])\n",
    "            cv2.imshow(windowname, temp_img)\n",
    "   \n",
    "    temp_img = img2.copy()\n",
    "    cv2.namedWindow(windowname)\n",
    "    cv2.imshow(windowname, temp_img)\n",
    "    cv2.setMouseCallback(windowname, onMouse)\n",
    "    key = cv2.waitKey(0)\n",
    "    if key == 13:  # Enter\n",
    "        \n",
    "        del temp_img\n",
    "        cv2.destroyAllWindows()\n",
    "        arr = np.array(points)\n",
    "        final = np.round(np.divide(arr, scale)).astype('int8')\n",
    "        cv2.rectangle(img, (final[1][0],final[1][1]), (final[2][0],final[2][1]), (0, 255, 0), 1)\n",
    "        cv2.imwrite(\"D:/location.jpg\",img)\n",
    "        return final\n",
    "        \n",
    "    elif key == ord('q'):  # ESC\n",
    "        print('結束')\n",
    "        del temp_img\n",
    "        cv2.destroyAllWindows()\n",
    "        return\n",
    "    else:\n",
    "        print('重试')\n",
    "        return SetPoints(windowname, img)\n",
    "    \n",
    "    \n",
    "filename =  r\"D:\\Dementia_Data_Preprocessing\\training_data\\20211023\\20211023_t091342.jpg\"\n",
    "\n",
    "point = SetPoints(filename,10)\n",
    "print(point)"
   ]
  },
  {
   "cell_type": "markdown",
   "id": "d2a437e2",
   "metadata": {},
   "source": [
    "## seperate two region"
   ]
  },
  {
   "cell_type": "code",
   "execution_count": 4,
   "id": "1ffafe90",
   "metadata": {},
   "outputs": [],
   "source": [
    "pad_area_size_1 = (32,16)\n",
    "pad_area_size_2 = (32,8)"
   ]
  },
  {
   "cell_type": "code",
   "execution_count": 3,
   "id": "fb362203",
   "metadata": {},
   "outputs": [],
   "source": [
    "import cv2 \n",
    "import numpy as np\n",
    "\n",
    "\n",
    "path = r\"D:\\Dementia_Data_Preprocessing\\testing_data\\20211023\\all_magic_eraser\\20211023_t183316.jpg\"\n",
    "\n",
    "img = cv2.imread(path)\n",
    "\n",
    "blank_img_1 = cv2.resize(img,pad_area_size_1)\n",
    "blank_img_2 = cv2.resize(img,pad_area_size_2)"
   ]
  },
  {
   "cell_type": "markdown",
   "id": "48fe7c75",
   "metadata": {},
   "source": [
    "## start"
   ]
  },
  {
   "cell_type": "code",
   "execution_count": 3,
   "id": "92633ee7",
   "metadata": {},
   "outputs": [
    {
     "ename": "NameError",
     "evalue": "name 'blank_img_1' is not defined",
     "output_type": "error",
     "traceback": [
      "\u001b[1;31m---------------------------------------------------------------------------\u001b[0m",
      "\u001b[1;31mNameError\u001b[0m                                 Traceback (most recent call last)",
      "\u001b[1;32m~\\AppData\\Local\\Temp/ipykernel_14516/1413116548.py\u001b[0m in \u001b[0;36m<module>\u001b[1;34m\u001b[0m\n\u001b[0;32m      2\u001b[0m \u001b[0ma2\u001b[0m \u001b[1;33m=\u001b[0m \u001b[0ma1\u001b[0m\u001b[1;33m.\u001b[0m\u001b[0mcopy\u001b[0m\u001b[1;33m(\u001b[0m\u001b[1;33m)\u001b[0m\u001b[1;33m\u001b[0m\u001b[1;33m\u001b[0m\u001b[0m\n\u001b[0;32m      3\u001b[0m \u001b[1;33m\u001b[0m\u001b[0m\n\u001b[1;32m----> 4\u001b[1;33m \u001b[0ma1\u001b[0m\u001b[1;33m[\u001b[0m\u001b[1;36m0\u001b[0m\u001b[1;33m:\u001b[0m\u001b[1;36m16\u001b[0m\u001b[1;33m,\u001b[0m \u001b[1;36m0\u001b[0m\u001b[1;33m:\u001b[0m\u001b[1;36m32\u001b[0m\u001b[1;33m]\u001b[0m \u001b[1;33m=\u001b[0m\u001b[0mblank_img_1\u001b[0m\u001b[1;33m\u001b[0m\u001b[1;33m\u001b[0m\u001b[0m\n\u001b[0m\u001b[0;32m      5\u001b[0m \u001b[0mcv2\u001b[0m\u001b[1;33m.\u001b[0m\u001b[0mimwrite\u001b[0m\u001b[1;33m(\u001b[0m\u001b[1;34m'D:/a1.jpg'\u001b[0m\u001b[1;33m,\u001b[0m \u001b[0ma1\u001b[0m\u001b[1;33m)\u001b[0m\u001b[1;33m\u001b[0m\u001b[1;33m\u001b[0m\u001b[0m\n\u001b[0;32m      6\u001b[0m \u001b[1;33m\u001b[0m\u001b[0m\n",
      "\u001b[1;31mNameError\u001b[0m: name 'blank_img_1' is not defined"
     ]
    }
   ],
   "source": [
    "a1 = cv2.imread(r\"D:\\Dementia_Data_Preprocessing\\testing_data\\20211007-1011\\out_image\\20211007_t220232.jpg\")\n",
    "a2 = a1.copy()\n",
    "\n",
    "a1[0:16, 0:32] =blank_img_1\n",
    "cv2.imwrite('D:/a1.jpg', a1)\n",
    "\n",
    "\n",
    "\n",
    "a2[16:24, 0:32] =blank_img_2\n",
    "cv2.imwrite('D:/a2.jpg', a2)"
   ]
  },
  {
   "cell_type": "code",
   "execution_count": 45,
   "id": "8c50caf8",
   "metadata": {},
   "outputs": [
    {
     "data": {
      "text/plain": [
       "True"
      ]
     },
     "execution_count": 45,
     "metadata": {},
     "output_type": "execute_result"
    }
   ],
   "source": [
    "b1 = cv2.imread(r\"D:\\Dementia_Data_Preprocessing\\training_data\\20211023\\20211023_t091344.jpg\")\n",
    "b2 = b1.copy()\n",
    "\n",
    "b1[0:16, 0:32] =blank_img_1\n",
    "cv2.imwrite('D:/b1.jpg', b1)\n",
    "\n",
    "\n",
    "\n",
    "b2[16:24, 0:32] =blank_img_2\n",
    "cv2.imwrite('D:/b2.jpg', b2)\n"
   ]
  },
  {
   "cell_type": "code",
   "execution_count": 46,
   "id": "53ac856c",
   "metadata": {},
   "outputs": [
    {
     "data": {
      "text/plain": [
       "True"
      ]
     },
     "execution_count": 46,
     "metadata": {},
     "output_type": "execute_result"
    }
   ],
   "source": [
    "c1 = cv2.imread(r\"D:\\Dementia_Data_Preprocessing\\training_data\\20211023\\20211023_t091346.jpg\")\n",
    "c2 = c1.copy()\n",
    "\n",
    "c1[0:16, 0:32] =blank_img_1\n",
    "cv2.imwrite('D:/c1.jpg', c1)\n",
    "\n",
    "\n",
    "\n",
    "c2[16:24, 0:32] =blank_img_2\n",
    "cv2.imwrite('D:/c2.jpg', c2)\n"
   ]
  },
  {
   "cell_type": "code",
   "execution_count": null,
   "id": "445bc487",
   "metadata": {},
   "outputs": [],
   "source": []
  }
 ],
 "metadata": {
  "kernelspec": {
   "display_name": "Python 3 (ipykernel)",
   "language": "python",
   "name": "python3"
  },
  "language_info": {
   "codemirror_mode": {
    "name": "ipython",
    "version": 3
   },
   "file_extension": ".py",
   "mimetype": "text/x-python",
   "name": "python",
   "nbconvert_exporter": "python",
   "pygments_lexer": "ipython3",
   "version": "3.8.12"
  }
 },
 "nbformat": 4,
 "nbformat_minor": 5
}
