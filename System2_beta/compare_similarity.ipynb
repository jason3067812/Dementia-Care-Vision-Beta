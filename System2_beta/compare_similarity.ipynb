{
 "cells": [
  {
   "cell_type": "markdown",
   "id": "78eca81e",
   "metadata": {},
   "source": [
    "## compare ssim"
   ]
  },
  {
   "cell_type": "code",
   "execution_count": 4,
   "id": "c2efd7a2",
   "metadata": {},
   "outputs": [
    {
     "name": "stdout",
     "output_type": "stream",
     "text": [
      "SSIM: 0.39887062364679765\n"
     ]
    }
   ],
   "source": [
    "import numpy as np\n",
    "import cv2\n",
    "from skimage.metrics import structural_similarity\n",
    "\n",
    "b = cv2.imread(r\"D:\\Dementia_data_processing\\out_image\\PIR-55\\20220219\\denoise\\20220219_t232757.jpg\")\n",
    "c = cv2.imread(r\"D:\\Dementia_data_processing\\out_image\\PIR-55\\20220219\\denoise\\20220219_t232747.jpg\")\n",
    "\n",
    "(score, diff) = structural_similarity(b,c, full=True,multichannel=True)\n",
    "print(\"SSIM: {}\".format(score))\n"
   ]
  },
  {
   "cell_type": "markdown",
   "id": "5b785651",
   "metadata": {},
   "source": [
    "## run path"
   ]
  },
  {
   "cell_type": "code",
   "execution_count": null,
   "id": "3a09ac6b",
   "metadata": {
    "scrolled": true
   },
   "outputs": [],
   "source": [
    "import os\n",
    "import cv2\n",
    "import numpy as np\n",
    "from skimage.metrics import structural_similarity\n",
    "import shutil\n",
    "\n",
    "directory_name = r\"D:\\Dementia_Data_Preprocessing\\testing_data\\new_test_4\\mask\"\n",
    "\n",
    "\n",
    "list_A = []\n",
    "list_B = []\n",
    "num = 0\n",
    "count = 0\n",
    "moving_level_list = []\n",
    "moving_time_list = []\n",
    "hour_count = 0\n",
    "hour_count_list = []\n",
    "dic = {}\n",
    "for filename in os.listdir(directory_name):\n",
    "    num = num+1\n",
    "    \n",
    "    time = filename.split(\".\")[0]\n",
    "    \n",
    "    \n",
    "    time2 = time.split(\"_t\")\n",
    "    \n",
    "    day = time2[0]\n",
    "    \n",
    "    h = int((time2[1])[:2])\n",
    "    m = int((time2[1])[2:4])\n",
    "    s = int((time2[1])[4:6])\n",
    "    \n",
    "          \n",
    "    # motion detect start #########################################################\n",
    "    \n",
    "    if (num % 2) == 0:\n",
    "        list_B = []      \n",
    "        list_B.append(filename)\n",
    "       \n",
    "    else:\n",
    "        list_A = [] \n",
    "        list_A.append(filename)\n",
    "        \n",
    "    \n",
    "    \n",
    "    \n",
    "    if len(list_A) != 0 and len(list_B) != 0:\n",
    "        \n",
    "        #print(list_A,list_B)\n",
    "        time1 = list_A[0].split(\".\")[0]       \n",
    "        time1_2 = time1.split(\"_t\")\n",
    "        day1 = time1_2[0]\n",
    "        h1 = int((time1_2[1])[:2])\n",
    "        m1 = int((time1_2[1])[2:4])\n",
    "        s1 = int((time1_2[1])[4:6])\n",
    "\n",
    "        time2 = list_B[0].split(\".\")[0]       \n",
    "        time2_2 = time2.split(\"_t\")\n",
    "        day2 = time2_2[0]\n",
    "        h2 = int((time2_2[1])[:2])\n",
    "        m2 = int((time2_2[1])[2:4])\n",
    "        s2 = int((time2_2[1])[4:6])\n",
    "\n",
    "        \n",
    "        a = cv2.imread(directory_name + \"\\\\\" + list_A[0])\n",
    "        b = cv2.imread(directory_name + \"\\\\\" + list_B[0])\n",
    "        (score, diff) = structural_similarity(a,b, full=True,multichannel=True)\n",
    "        score = round(score,2)\n",
    "        #print(\"SSIM: {}\".format(score))\n",
    "        action = 1 - score\n",
    "        #print(\"moving level:\", action)\n",
    "        if score < 1:\n",
    "                    \n",
    "        \n",
    "            c = (list_A[0],list_B[0],f\"SSIM: {score}\")\n",
    "            print(c)\n",
    "            \n",
    "            count = count+1\n",
    "            moving_level_list.append(1-score)\n",
    "            \n",
    "            hour_count+=1\n",
    "            \n",
    "            #shutil.copyfile(\"D:/Dementia_Data_Preprocessing/testing_data/4\" + \"/\" + list_A[0], \"D:/motion_detect\"+\"/\"+list_A[0])\n",
    "            #shutil.copyfile(\"D:/Dementia_Data_Preprocessing/testing_data/4\" + \"/\" + list_B[0], \"D:/motion_detect\"+\"/\"+list_B[0])            \n",
    "                   \n",
    "        else:\n",
    "            hour_count+=0\n",
    "            moving_level_list.append(0)\n",
    "            \n",
    "        if h1 == h2:\n",
    "            dic[h2] = hour_count                \n",
    "        elif h1<h2:\n",
    "            print(\"!!!!!!!!!\")\n",
    "            dic[h1] = hour_count\n",
    "            hour_count = 0\n",
    "        else:\n",
    "            print(\"!!!!!!!!!\")\n",
    "            dic[h2] = hour_count\n",
    "            hour_count = 0\n",
    "            \n",
    "        #print(hour_count)\n",
    "        \n",
    "      \n",
    "    else:\n",
    "        continue\n",
    "        \n",
    "    \n",
    "    ########################################################################################\n",
    "        \n",
    "        \n",
    "\n",
    "print(\" \")\n",
    "print(\"detect moving times:\", count)\n",
    "print(dic)\n",
    "print(moving_level_list)"
   ]
  },
  {
   "cell_type": "code",
   "execution_count": null,
   "id": "e95ad6cb",
   "metadata": {},
   "outputs": [],
   "source": [
    "from matplotlib import pyplot as plt\n",
    "\n",
    "fig= plt.figure(figsize=(15,5))\n",
    "plt.xlabel(\"time\")\n",
    "plt.ylabel(\"motion degree\")\n",
    "plt.title(\"test\")\n",
    "plt.plot(moving_level_list)\n",
    "plt.legend()\n",
    "plt.show()\n"
   ]
  },
  {
   "cell_type": "code",
   "execution_count": null,
   "id": "be5cec6c",
   "metadata": {},
   "outputs": [],
   "source": [
    "plt.bar(range(len(dic)), list(dic.values()), align='center')\n",
    "plt.xticks(range(len(dic)), list(dic.keys()))\n",
    "plt.xlabel(\"hour\")\n",
    "plt.ylabel(\"moving times\")\n",
    "plt.title(\"test\")\n",
    "plt.show()"
   ]
  },
  {
   "cell_type": "code",
   "execution_count": null,
   "id": "9202413a",
   "metadata": {},
   "outputs": [],
   "source": [
    "#Normalized Data\n",
    "\n",
    "print(score_list)\n",
    "score_list = np.array(score_list)\n",
    "\n",
    "normalized = (score_list-min(score_list))/(max(score_list)-min(score_list))\n",
    "\n",
    "from matplotlib import pyplot as plt\n",
    "\n",
    "fig= plt.figure(figsize=(15,5))\n",
    "plt.xlabel(\"X-axis\")\n",
    "plt.ylabel(\"Y-axis\")\n",
    "plt.title(\"A test graph\")\n",
    "plt.plot(normalized)\n",
    "plt.legend()\n",
    "plt.show()"
   ]
  },
  {
   "cell_type": "code",
   "execution_count": null,
   "id": "4559e55d",
   "metadata": {},
   "outputs": [],
   "source": []
  },
  {
   "cell_type": "markdown",
   "id": "1dfad6eb",
   "metadata": {},
   "source": [
    "## PhotoHash"
   ]
  },
  {
   "cell_type": "code",
   "execution_count": 2,
   "id": "10e727eb",
   "metadata": {},
   "outputs": [],
   "source": [
    "image1 = \"20210825_t082317\"\n",
    "image2 = \"20210825_t082319\""
   ]
  },
  {
   "cell_type": "code",
   "execution_count": 3,
   "id": "f9acc54a",
   "metadata": {},
   "outputs": [
    {
     "name": "stdout",
     "output_type": "stream",
     "text": [
      "distance: 1\n"
     ]
    }
   ],
   "source": [
    "import photohash\n",
    "import numpy as np\n",
    "import cv2\n",
    "\n",
    "path1 = f\"D:\\\\Dementia_Data_Preprocessing\\\\testing_data\\\\test_exist\\\\mask\\\\{image1}.jpg\"\n",
    "path2  = f\"D:\\\\Dementia_Data_Preprocessing\\\\testing_data\\\\test_exist\\\\mask\\\\{image2}.jpg\"\n",
    "\n",
    "\n",
    "distance = photohash.distance(path1,path2)\n",
    "print(\"distance:\",distance)"
   ]
  },
  {
   "cell_type": "code",
   "execution_count": 6,
   "id": "80a458c8",
   "metadata": {},
   "outputs": [
    {
     "name": "stdout",
     "output_type": "stream",
     "text": [
      "distance: 0\n"
     ]
    }
   ],
   "source": [
    "import photohash\n",
    "import numpy as np\n",
    "import cv2\n",
    "\n",
    "path1  = r\"D:\\test_leave_bed\\1023b\\20211023_t002602.jpg\"\n",
    "path2  = r\"D:\\test_leave_bed\\1023b\\20211023_t091346.jpg\"\n",
    "distance = photohash.distance(path1,path2)\n",
    "print(\"distance:\",distance)"
   ]
  },
  {
   "cell_type": "markdown",
   "id": "f465f1d6",
   "metadata": {},
   "source": [
    "## run path"
   ]
  },
  {
   "cell_type": "code",
   "execution_count": null,
   "id": "d6e9dd9f",
   "metadata": {},
   "outputs": [],
   "source": [
    "import os\n",
    "import cv2\n",
    "import numpy as np\n",
    "import photohash\n",
    "\n",
    "\n",
    "\n",
    "directory_name = r\"D:\\Dementia_Data_Preprocessing\\testing_data\\mask\\4\"\n",
    "\n",
    "\n",
    "list_A = []\n",
    "list_B = []\n",
    "num = 0\n",
    "count = 0\n",
    "for filename in os.listdir(directory_name):\n",
    "\n",
    "    num = num+1\n",
    "    \n",
    "    if (num % 2) == 0:\n",
    "        list_B = []      \n",
    "        list_B.append(filename)\n",
    "       \n",
    "    else:\n",
    "        list_A = [] \n",
    "        list_A.append(filename)\n",
    "    \n",
    "    if len(list_A) != 0 and len(list_B) != 0:\n",
    "        \n",
    "        a = directory_name + \"\\\\\" + list_A[0]\n",
    "        b = directory_name + \"\\\\\" + list_B[0]\n",
    "        distance = photohash.distance(a,b)\n",
    "        \n",
    "        if distance >= 0:\n",
    "            c = (list_A[0],list_B[0],f\"distance: {distance}\")\n",
    "            print(c)\n",
    "            count = count+1\n",
    "            \n",
    "        \n",
    "    else:\n",
    "        continue\n",
    "\n",
    "print(\" \")\n",
    "print(\"detect moving times:\", count)"
   ]
  },
  {
   "cell_type": "markdown",
   "id": "ccea7599",
   "metadata": {},
   "source": [
    "## PhotoHash vs SSIM"
   ]
  },
  {
   "cell_type": "code",
   "execution_count": null,
   "id": "3b0722d0",
   "metadata": {},
   "outputs": [],
   "source": [
    "import photohash\n",
    "import numpy as np\n",
    "import cv2\n",
    "from skimage.metrics import structural_similarity\n",
    "\n",
    "path1 = r\"D:\\Dementia_Data_Preprocessing\\main\\out_image\\20210825_t021112.jpg\"\n",
    "path2  = r\"D:\\Dementia_Data_Preprocessing\\main\\out_image\\20210825_t021110.jpg\"\n",
    "\n",
    "distance = photohash.distance(path1,path2)\n",
    "print(\"distance:\",distance)\n",
    "\n",
    "\n",
    "b = cv2.imread(path1)\n",
    "c = cv2.imread(path2)\n",
    "\n",
    "(score, diff) = structural_similarity(b,c, full=True,multichannel=True)\n",
    "print(\"SSIM: {}\".format(score))"
   ]
  },
  {
   "cell_type": "markdown",
   "id": "7e81690a",
   "metadata": {},
   "source": [
    "## dhash"
   ]
  },
  {
   "cell_type": "code",
   "execution_count": null,
   "id": "647ca813",
   "metadata": {},
   "outputs": [],
   "source": [
    "import numpy as np\n",
    "import cv2\n",
    "import matplotlib.pyplot as plt\n",
    "\n",
    "def get_phash(s_img_url):\n",
    "    np_lena_img = cv2.imread(s_img_url, cv2.IMREAD_UNCHANGED)\n",
    "\n",
    "    # 缩放为32x32图片\n",
    "    np_lena_img_resize = cv2.resize(np_lena_img ,(32, 32), cv2.INTER_AREA)\n",
    "\n",
    "    # RGB三通道转为灰度图\n",
    "    #np_lena_img_gray = cv2.cvtColor(np_lena_img_resize, cv2.COLOR_BGR2GRAY)\n",
    "\n",
    "    # 进行DCT变换\n",
    "    np_lena_img_dct = cv2.dct(np.float32(np_lena_img_resize))\n",
    "\n",
    "    # 取低频dct部分\n",
    "    np_lena_img_dct_low_freq = np_lena_img_dct[0:8, 0:8]\n",
    "\n",
    "    # 计算8x8灰度矩阵的均值\n",
    "    a = np.mean(np_lena_img_dct_low_freq)\n",
    "\n",
    "    # 根据均值得到hash值\n",
    "    diff = np_lena_img_dct_low_freq > a\n",
    "    phash_bi = ''.join(str(b) for b in 1 * diff.flatten())\n",
    "    phash_hex = '{:0>{width}x}'.format(int(phash_bi, 2), width=16)\n",
    "    return phash_bi, phash_hex\n",
    "\n",
    "def get_hanming(s_hash_a, s_hash_b):\n",
    "    if len(s_hash_a) != len(s_hash_b):\n",
    "        print(\"two hash dim is not same!\")\n",
    "        return 100000000\n",
    "\n",
    "    n_hanmming = 0\n",
    "    for i in range(len(s_hash_a)):\n",
    "        if s_hash_a[i] != s_hash_b[i]:\n",
    "            n_hanmming += 1\n",
    "    return  n_hanmming\n",
    "\n",
    "\n",
    "if __name__ == \"__main__\":\n",
    "    s_img_url_a = path1\n",
    "    s_img_url_b = path2\n",
    "    \n",
    "    phash_bi_a, phash_hex_a = get_phash(s_img_url_a)\n",
    "    print(\"Lenna(origin).png\")\n",
    "    print(phash_bi_a, phash_hex_a)\n",
    "    print()\n",
    "\n",
    "    phash_bi_b, phash_hex_b = get_phash(s_img_url_b)\n",
    "    print(\"Lenna(noise).png\")\n",
    "    print(phash_bi_b, phash_hex_b)\n",
    "    print()\n",
    "\n",
    "    print(\"hanming Lenna(origin) vs Lenna(noise)\")\n",
    "    print(get_hanming(phash_bi_a, phash_bi_b) )\n",
    "    print()\n"
   ]
  }
 ],
 "metadata": {
  "kernelspec": {
   "display_name": "Python 3 (ipykernel)",
   "language": "python",
   "name": "python3"
  },
  "language_info": {
   "codemirror_mode": {
    "name": "ipython",
    "version": 3
   },
   "file_extension": ".py",
   "mimetype": "text/x-python",
   "name": "python",
   "nbconvert_exporter": "python",
   "pygments_lexer": "ipython3",
   "version": "3.8.12"
  }
 },
 "nbformat": 4,
 "nbformat_minor": 5
}
