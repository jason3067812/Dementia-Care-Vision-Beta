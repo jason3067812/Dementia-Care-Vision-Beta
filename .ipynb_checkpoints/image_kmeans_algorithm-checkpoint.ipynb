{
 "cells": [
  {
   "cell_type": "code",
   "execution_count": 2,
   "id": "dd761bdd",
   "metadata": {},
   "outputs": [
    {
     "name": "stdout",
     "output_type": "stream",
     "text": [
      "(24, 32)\n"
     ]
    },
    {
     "data": {
      "image/png": "[encoded data removed]",
      "text/plain": [
       "<Figure size 640x480 with 3 Axes>"
      ]
     },
     "metadata": {},
     "output_type": "display_data"
    }
   ],
   "source": [
    "import cv2\n",
    "import numpy as np\n",
    "import matplotlib.pyplot as plt\n",
    "\n",
    "# 讀取原始影像灰度顏色\n",
    "img = cv2.imread(r\"D:\\test\\a.jpg\",0)\n",
    "print(img.shape)\n",
    "\n",
    "# 獲取影像高度、寬度\n",
    "rows, cols = img.shape[:]\n",
    "\n",
    "# 影像二維畫素轉換為一維\n",
    "data = img.reshape((rows * cols, 1))\n",
    "data = np.float32(data)\n",
    "\n",
    "# 定義中心 (type,max_iter,epsilon)\n",
    "criteria = (cv2.TERM_CRITERIA_EPS +\n",
    "            cv2.TERM_CRITERIA_MAX_ITER, 10, 1.0)\n",
    "\n",
    "# 設定標籤\n",
    "flags = cv2.KMEANS_RANDOM_CENTERS\n",
    "#cv2.KMEANS_RANDOM_CENTERS\n",
    "\n",
    "# K-Means聚類 聚整合n類\n",
    "compactness, labels, centers = cv2.kmeans(data, 2, None, criteria, 10, flags)\n",
    "compactness2, labels2, centers2 = cv2.kmeans(data, 3, None, criteria, 10, flags)\n",
    "\n",
    "\n",
    "# 生成最終影像\n",
    "dst = labels.reshape((img.shape[0], img.shape[1]))\n",
    "dst2 = labels2.reshape((img.shape[0], img.shape[1]))\n",
    "\n",
    "# 顯示影像\n",
    "titles = [u'gray', u'kmeans_2', u'kmeans_3']\n",
    "images = [img, dst, dst2]\n",
    "for i in range(3):\n",
    "    plt.subplot(1, 3, i + 1), plt.imshow(images[i], 'gray'),\n",
    "    plt.title(titles[i])\n",
    "    plt.xticks([]), plt.yticks([])\n",
    "plt.show()"
   ]
  },
  {
   "cell_type": "code",
   "execution_count": 3,
   "id": "125458ab",
   "metadata": {
    "scrolled": true
   },
   "outputs": [
    {
     "name": "stdout",
     "output_type": "stream",
     "text": [
      "[[0 1 0 1 0 1 0 1 0 0 1 1 1 0 0 1 1 1 1 1 1 1 0 1 0 0 0 0 0 0 0 0]\n",
      " [1 1 0 0 1 1 1 1 0 1 0 1 0 1 1 0 1 1 0 1 1 0 0 1 0 0 0 0 0 1 0 0]\n",
      " [0 0 0 0 1 1 1 1 1 0 0 1 1 0 0 1 0 0 0 1 0 0 1 1 1 1 0 1 0 0 0 0]\n",
      " [0 1 1 0 1 1 1 0 1 1 1 0 0 1 0 0 0 0 0 1 0 0 1 0 0 1 0 0 0 0 0 0]\n",
      " [0 1 0 1 0 0 1 1 1 0 1 0 1 1 1 1 1 0 1 1 0 1 1 1 1 1 1 1 1 1 1 1]\n",
      " [0 1 1 1 1 1 1 1 1 1 1 1 1 1 1 0 1 1 1 0 1 1 1 0 1 1 1 0 1 1 1 1]\n",
      " [1 1 1 1 1 1 1 1 1 1 1 0 1 1 1 1 1 1 0 1 0 1 1 1 1 1 1 1 1 1 1 1]\n",
      " [1 1 1 1 1 1 1 1 1 1 1 1 0 0 1 0 0 1 1 1 0 1 1 0 0 1 1 0 1 1 1 1]\n",
      " [1 0 1 1 1 1 1 1 1 0 1 1 0 0 0 1 0 0 1 1 0 0 0 1 0 0 0 1 0 1 1 1]\n",
      " [1 1 1 1 1 1 1 1 1 1 0 0 0 0 0 0 0 0 1 0 0 0 0 0 1 0 0 0 1 1 1 1]\n",
      " [1 1 1 1 1 0 1 0 0 0 0 0 0 0 0 0 0 0 0 1 0 0 0 0 0 0 0 0 1 1 1 1]\n",
      " [1 1 1 0 0 1 0 0 0 0 1 0 0 0 0 0 0 0 1 0 0 1 0 0 0 0 0 0 0 1 1 1]\n",
      " [1 1 1 1 1 1 0 1 0 0 0 0 0 0 0 0 0 0 0 0 0 0 0 0 0 0 0 0 1 0 1 1]\n",
      " [0 1 1 0 0 1 1 0 0 0 0 0 0 0 0 0 0 0 0 0 0 0 0 0 0 0 0 0 0 0 1 1]\n",
      " [0 1 0 1 1 1 0 0 0 0 0 0 0 0 0 0 0 0 0 0 1 0 1 1 1 0 0 0 0 0 0 1]\n",
      " [1 1 0 1 1 0 1 0 0 0 0 0 0 0 0 0 0 0 0 0 0 1 1 0 0 1 0 0 0 0 0 0]\n",
      " [1 1 1 1 1 1 0 1 0 0 0 0 0 0 0 0 0 0 0 1 1 0 0 0 1 0 0 1 1 1 1 1]\n",
      " [1 1 1 0 1 1 1 0 0 0 0 0 0 0 0 0 0 1 0 0 0 0 0 0 0 1 1 0 1 1 1 0]\n",
      " [1 1 1 1 1 1 1 1 0 1 0 0 0 0 0 0 0 0 1 0 0 1 0 0 0 1 0 1 1 1 1 0]\n",
      " [0 1 1 0 1 1 1 1 1 1 0 0 0 0 1 0 0 0 1 0 0 1 1 1 0 1 1 0 1 1 0 1]\n",
      " [1 1 1 1 1 0 1 0 1 1 1 0 0 1 1 0 0 0 1 1 0 0 0 1 0 0 1 1 1 0 1 1]\n",
      " [1 1 1 0 1 1 1 0 0 0 1 0 0 0 0 0 0 0 0 0 0 0 0 1 0 1 1 0 0 0 1 0]\n",
      " [0 1 1 1 1 0 1 1 1 0 1 1 0 0 0 0 1 0 1 1 0 1 0 1 0 1 0 1 1 1 0 1]\n",
      " [1 0 1 0 0 0 0 1 1 1 1 0 0 0 0 0 0 1 0 0 0 0 1 0 1 1 1 0 1 1 1 0]]\n"
     ]
    }
   ],
   "source": [
    "print(dst)"
   ]
  },
  {
   "cell_type": "code",
   "execution_count": 4,
   "id": "17132e1f",
   "metadata": {},
   "outputs": [
    {
     "name": "stdout",
     "output_type": "stream",
     "text": [
      "768\n",
      "[0, 1, 0, 1, 0, 1, 0, 1, 0, 0, 1, 1, 1, 0, 0, 1, 1, 1, 1, 1, 1, 1, 0, 1, 0, 0, 0, 0, 0, 0, 0, 0, 1, 1, 0, 0, 1, 1, 1, 1, 0, 1, 0, 1, 0, 1, 1, 0, 1, 1, 0, 1, 1, 0, 0, 1, 0, 0, 0, 0, 0, 1, 0, 0, 0, 0, 0, 0, 1, 1, 1, 1, 1, 0, 0, 1, 1, 0, 0, 1, 0, 0, 0, 1, 0, 0, 1, 1, 1, 1, 0, 1, 0, 0, 0, 0, 0, 1, 1, 0, 1, 1, 1, 0, 1, 1, 1, 0, 0, 1, 0, 0, 0, 0, 0, 1, 0, 0, 1, 0, 0, 1, 0, 0, 0, 0, 0, 0, 0, 1, 0, 1, 0, 0, 1, 1, 1, 0, 1, 0, 1, 1, 1, 1, 1, 0, 1, 1, 0, 1, 1, 1, 1, 1, 1, 1, 1, 1, 1, 1, 0, 1, 1, 1, 1, 1, 1, 1, 1, 1, 1, 1, 1, 1, 1, 0, 1, 1, 1, 0, 1, 1, 1, 0, 1, 1, 1, 0, 1, 1, 1, 1, 1, 1, 1, 1, 1, 1, 1, 1, 1, 1, 1, 0, 1, 1, 1, 1, 1, 1, 0, 1, 0, 1, 1, 1, 1, 1, 1, 1, 1, 1, 1, 1, 1, 1, 1, 1, 1, 1, 1, 1, 1, 1, 1, 1, 0, 0, 1, 0, 0, 1, 1, 1, 0, 1, 1, 0, 0, 1, 1, 0, 1, 1, 1, 1, 1, 0, 1, 1, 1, 1, 1, 1, 1, 0, 1, 1, 0, 0, 0, 1, 0, 0, 1, 1, 0, 0, 0, 1, 0, 0, 0, 1, 0, 1, 1, 1, 1, 1, 1, 1, 1, 1, 1, 1, 1, 1, 0, 0, 0, 0, 0, 0, 0, 0, 1, 0, 0, 0, 0, 0, 1, 0, 0, 0, 1, 1, 1, 1, 1, 1, 1, 1, 1, 0, 1, 0, 0, 0, 0, 0, 0, 0, 0, 0, 0, 0, 0, 1, 0, 0, 0, 0, 0, 0, 0, 0, 1, 1, 1, 1, 1, 1, 1, 0, 0, 1, 0, 0, 0, 0, 1, 0, 0, 0, 0, 0, 0, 0, 1, 0, 0, 1, 0, 0, 0, 0, 0, 0, 0, 1, 1, 1, 1, 1, 1, 1, 1, 1, 0, 1, 0, 0, 0, 0, 0, 0, 0, 0, 0, 0, 0, 0, 0, 0, 0, 0, 0, 0, 0, 0, 1, 0, 1, 1, 0, 1, 1, 0, 0, 1, 1, 0, 0, 0, 0, 0, 0, 0, 0, 0, 0, 0, 0, 0, 0, 0, 0, 0, 0, 0, 0, 0, 0, 0, 1, 1, 0, 1, 0, 1, 1, 1, 0, 0, 0, 0, 0, 0, 0, 0, 0, 0, 0, 0, 0, 0, 1, 0, 1, 1, 1, 0, 0, 0, 0, 0, 0, 1, 1, 1, 0, 1, 1, 0, 1, 0, 0, 0, 0, 0, 0, 0, 0, 0, 0, 0, 0, 0, 0, 1, 1, 0, 0, 1, 0, 0, 0, 0, 0, 0, 1, 1, 1, 1, 1, 1, 0, 1, 0, 0, 0, 0, 0, 0, 0, 0, 0, 0, 0, 1, 1, 0, 0, 0, 1, 0, 0, 1, 1, 1, 1, 1, 1, 1, 1, 0, 1, 1, 1, 0, 0, 0, 0, 0, 0, 0, 0, 0, 0, 1, 0, 0, 0, 0, 0, 0, 0, 1, 1, 0, 1, 1, 1, 0, 1, 1, 1, 1, 1, 1, 1, 1, 0, 1, 0, 0, 0, 0, 0, 0, 0, 0, 1, 0, 0, 1, 0, 0, 0, 1, 0, 1, 1, 1, 1, 0, 0, 1, 1, 0, 1, 1, 1, 1, 1, 1, 0, 0, 0, 0, 1, 0, 0, 0, 1, 0, 0, 1, 1, 1, 0, 1, 1, 0, 1, 1, 0, 1, 1, 1, 1, 1, 1, 0, 1, 0, 1, 1, 1, 0, 0, 1, 1, 0, 0, 0, 1, 1, 0, 0, 0, 1, 0, 0, 1, 1, 1, 0, 1, 1, 1, 1, 1, 0, 1, 1, 1, 0, 0, 0, 1, 0, 0, 0, 0, 0, 0, 0, 0, 0, 0, 0, 0, 1, 0, 1, 1, 0, 0, 0, 1, 0, 0, 1, 1, 1, 1, 0, 1, 1, 1, 0, 1, 1, 0, 0, 0, 0, 1, 0, 1, 1, 0, 1, 0, 1, 0, 1, 0, 1, 1, 1, 0, 1, 1, 0, 1, 0, 0, 0, 0, 1, 1, 1, 1, 0, 0, 0, 0, 0, 0, 1, 0, 0, 0, 0, 1, 0, 1, 1, 1, 0, 1, 1, 1, 0]\n"
     ]
    }
   ],
   "source": [
    "dst_d1 = [i for item in dst for i in item]\n",
    "print(len(dst_d1))\n",
    "print(dst_d1)"
   ]
  },
  {
   "cell_type": "code",
   "execution_count": 5,
   "id": "51628175",
   "metadata": {},
   "outputs": [
    {
     "name": "stdout",
     "output_type": "stream",
     "text": [
      "[395, 373]\n",
      "[[0 1 0 1 0 1 0 1 0 0 1 1 1 0 0 1 1 1 1 1 1 1 0 1 0 0 0 0 0 0 0 0]\n",
      " [1 1 0 0 1 1 1 1 0 1 0 1 0 1 1 0 1 1 0 1 1 0 0 1 0 0 0 0 0 1 0 0]\n",
      " [0 0 0 0 1 1 1 1 1 0 0 1 1 0 0 1 0 0 0 1 0 0 1 1 1 1 0 1 0 0 0 0]\n",
      " [0 1 1 0 1 1 1 0 1 1 1 0 0 1 0 0 0 0 0 1 0 0 1 0 0 1 0 0 0 0 0 0]\n",
      " [0 1 0 1 0 0 1 1 1 0 1 0 1 1 1 1 1 0 1 1 0 1 1 1 1 1 1 1 1 1 1 1]\n",
      " [0 1 1 1 1 1 1 1 1 1 1 1 1 1 1 0 1 1 1 0 1 1 1 0 1 1 1 0 1 1 1 1]\n",
      " [1 1 1 1 1 1 1 1 1 1 1 0 1 1 1 1 1 1 0 1 0 1 1 1 1 1 1 1 1 1 1 1]\n",
      " [1 1 1 1 1 1 1 1 1 1 1 1 0 0 1 0 0 1 1 1 0 1 1 0 0 1 1 0 1 1 1 1]\n",
      " [1 0 1 1 1 1 1 1 1 0 1 1 0 0 0 1 0 0 1 1 0 0 0 1 0 0 0 1 0 1 1 1]\n",
      " [1 1 1 1 1 1 1 1 1 1 0 0 0 0 0 0 0 0 1 0 0 0 0 0 1 0 0 0 1 1 1 1]\n",
      " [1 1 1 1 1 0 1 0 0 0 0 0 0 0 0 0 0 0 0 1 0 0 0 0 0 0 0 0 1 1 1 1]\n",
      " [1 1 1 0 0 1 0 0 0 0 1 0 0 0 0 0 0 0 1 0 0 1 0 0 0 0 0 0 0 1 1 1]\n",
      " [1 1 1 1 1 1 0 1 0 0 0 0 0 0 0 0 0 0 0 0 0 0 0 0 0 0 0 0 1 0 1 1]\n",
      " [0 1 1 0 0 1 1 0 0 0 0 0 0 0 0 0 0 0 0 0 0 0 0 0 0 0 0 0 0 0 1 1]\n",
      " [0 1 0 1 1 1 0 0 0 0 0 0 0 0 0 0 0 0 0 0 1 0 1 1 1 0 0 0 0 0 0 1]\n",
      " [1 1 0 1 1 0 1 0 0 0 0 0 0 0 0 0 0 0 0 0 0 1 1 0 0 1 0 0 0 0 0 0]\n",
      " [1 1 1 1 1 1 0 1 0 0 0 0 0 0 0 0 0 0 0 1 1 0 0 0 1 0 0 1 1 1 1 1]\n",
      " [1 1 1 0 1 1 1 0 0 0 0 0 0 0 0 0 0 1 0 0 0 0 0 0 0 1 1 0 1 1 1 0]\n",
      " [1 1 1 1 1 1 1 1 0 1 0 0 0 0 0 0 0 0 1 0 0 1 0 0 0 1 0 1 1 1 1 0]\n",
      " [0 1 1 0 1 1 1 1 1 1 0 0 0 0 1 0 0 0 1 0 0 1 1 1 0 1 1 0 1 1 0 1]\n",
      " [1 1 1 1 1 0 1 0 1 1 1 0 0 1 1 0 0 0 1 1 0 0 0 1 0 0 1 1 1 0 1 1]\n",
      " [1 1 1 0 1 1 1 0 0 0 1 0 0 0 0 0 0 0 0 0 0 0 0 1 0 1 1 0 0 0 1 0]\n",
      " [0 1 1 1 1 0 1 1 1 0 1 1 0 0 0 0 1 0 1 1 0 1 0 1 0 1 0 1 1 1 0 1]\n",
      " [1 0 1 0 0 0 0 1 1 1 1 0 0 0 0 0 0 1 0 0 0 0 1 0 1 1 1 0 1 1 1 0]]\n"
     ]
    },
    {
     "data": {
      "text/plain": [
       "True"
      ]
     },
     "execution_count": 5,
     "metadata": {},
     "output_type": "execute_result"
    }
   ],
   "source": [
    "p0 = 0\n",
    "p1 = 0\n",
    "\n",
    "\n",
    "for k in dst_d1:\n",
    "    if k == 0:\n",
    "        p0+=1\n",
    "    else:\n",
    "        p1+=1\n",
    "\n",
    "p = [p0,p1]\n",
    "print(p)\n",
    "human = min(p)\n",
    "\n",
    "if p1>p0:\n",
    "    final = 1 - dst\n",
    "else:\n",
    "    final = dst\n",
    "print(final)\n",
    "final = final*255 \n",
    "cv2.imwrite(r\"D:\\test\\s.png\", final)\n"
   ]
  },
  {
   "cell_type": "code",
   "execution_count": null,
   "id": "33027e16",
   "metadata": {},
   "outputs": [],
   "source": [
    "print(dst2)   "
   ]
  },
  {
   "cell_type": "code",
   "execution_count": null,
   "id": "75c37a5a",
   "metadata": {},
   "outputs": [],
   "source": [
    "dst2_d1 = [i for item in dst2 for i in item]\n",
    "c = dst2_d1\n",
    "print(len(dst2_d1))\n",
    "print(dst2_d1)"
   ]
  },
  {
   "cell_type": "code",
   "execution_count": null,
   "id": "2e2b4077",
   "metadata": {},
   "outputs": [],
   "source": [
    "p0 = 0\n",
    "p1 = 0\n",
    "p2 = 0\n",
    "\n",
    "for k in dst2_d1:\n",
    "    if k == 0:\n",
    "        p0+=1\n",
    "    elif k == 1:\n",
    "        p1+=1\n",
    "    else:\n",
    "        p2+=1\n",
    "\n",
    "p = [p0,p1,p2]\n",
    "print(p)\n",
    "human = min(p)"
   ]
  },
  {
   "cell_type": "markdown",
   "id": "4ad13e90",
   "metadata": {},
   "source": [
    "## start run path"
   ]
  },
  {
   "cell_type": "code",
   "execution_count": null,
   "id": "20bee625",
   "metadata": {},
   "outputs": [],
   "source": [
    "import cv2\n",
    "import numpy as np\n",
    "import matplotlib.pyplot as plt\n",
    "import os\n",
    "from denoise_algorithm import denoise\n",
    "\n",
    "# 修改路徑\n",
    "directory_name = r'D:\\Dementia_Data_Preprocessing\\testing_data\\0'\n",
    "new_directory_name = r'D:\\Dementia_Data_Preprocessing\\testing_data\\denoise\\0'\n",
    "\n",
    "# new_directory_name_2 = r'D:\\Dementia_Data_Preprocessing\\testing_data\\denoise2'\n",
    "\n",
    "for filename in os.listdir(directory_name):\n",
    "    \n",
    "\n",
    "    base = filename.split(\".\")[0]\n",
    "   \n",
    "    # 讀取原始影像灰度顏色\n",
    "    img = cv2.imread(directory_name + \"/\" + filename,0)\n",
    "\n",
    "    \n",
    "    # 獲取影像高度、寬度\n",
    "    rows, cols = img.shape[:]\n",
    "\n",
    "    # 影像二維畫素轉換為一維\n",
    "    data = img.reshape((rows * cols, 1))\n",
    "    data = np.float32(data)\n",
    "\n",
    "    # 定義中心 (type,max_iter,epsilon)\n",
    "    criteria = (cv2.TERM_CRITERIA_EPS +\n",
    "                cv2.TERM_CRITERIA_MAX_ITER, 10, 1.0)\n",
    "\n",
    "    # 設定標籤\n",
    "    flags = cv2.KMEANS_RANDOM_CENTERS\n",
    "    #cv2.KMEANS_RANDOM_CENTERS\n",
    "\n",
    "    # K-Means聚類 聚整合n類\n",
    "    compactness, labels, centers = cv2.kmeans(data, 2, None, criteria, 10, flags)\n",
    "    #compactness2, labels2, centers2 = cv2.kmeans(data, 3, None, criteria, 10, flags)\n",
    "\n",
    "\n",
    "    # 生成最終影像\n",
    "    dst = labels.reshape((img.shape[0], img.shape[1]))\n",
    "    #dst2 = labels2.reshape((img.shape[0], img.shape[1]))\n",
    "  \n",
    "    dst_d1 = [i for item in dst for i in item]\n",
    "    \n",
    "    p0 = 0\n",
    "    p1 = 0\n",
    "    \n",
    "    for k in dst_d1:\n",
    "        if k == 0:\n",
    "            p0+=1\n",
    "        else:\n",
    "            p1+=1\n",
    "\n",
    "    if p1>p0:\n",
    "        \n",
    "        final = 1-dst\n",
    "    else:\n",
    "        final = dst\n",
    "    \n",
    "    final = final*255 \n",
    "    cv2.imwrite(new_directory_name + \"/\" + base + \".png\", final)\n",
    "    \n",
    "    \n",
    "    \n",
    "#############################################################      have bug !!!!!!\n",
    "#     dst2_d1 = [j for item2 in dst2 for j in item2]\n",
    "    \n",
    "#     p0 = 0\n",
    "#     p1 = 0\n",
    "#     p2 = 0\n",
    "#     for h in dst2_d1:\n",
    "#         if h == 0:\n",
    "#             p0+=1\n",
    "#         elif h == 1:\n",
    "#             p1+=1\n",
    "#         else:\n",
    "#             p2+=1\n",
    "\n",
    "#     p = [p0,p1,p2]\n",
    "#     human = min(p)\n",
    "#     human_index = p.index(human)\n",
    "#     number = len(dst2_d1)\n",
    "#     for l in range(number):\n",
    "        \n",
    "#         if human_index == 0:\n",
    "#             if dst2_d1[l] != 0:\n",
    "#                 dst2_d1[l] = 0\n",
    "#             else:\n",
    "#                 dst2_d1[l] = 1\n",
    "            \n",
    "#         elif human_index == 1:\n",
    "#             if dst2_d1[l] != 1:        \n",
    "#                 dst2_d1[l] = 0\n",
    "#         else:\n",
    "#             if dst2_d1[l] != 2:\n",
    "#                 dst2_d1[l] = 0\n",
    "#             else:\n",
    "#                 dst2_d1[l] = 1\n",
    "    \n",
    "                \n",
    " \n",
    "              \n",
    "#     final2 = np.array(dst2_d1).reshape(24,32)\n",
    "##################################################################        \n",
    "  \n",
    "#     final2 = final2*255      \n",
    "#     cv2.imwrite(new_directory_name_2 + \"/\" + base + \".png\", final2)"
   ]
  },
  {
   "cell_type": "code",
   "execution_count": null,
   "id": "80d5ee78",
   "metadata": {
    "scrolled": true
   },
   "outputs": [],
   "source": [
    "# check pixel value\n",
    "img1=cv2.imread(r\"D:\\Dementia_Data_Preprocessing\\testing_data\\denoise\\4\\20210825_t021402.png\",0)\n",
    "print(img1)"
   ]
  }
 ],
 "metadata": {
  "kernelspec": {
   "display_name": "Python 3",
   "language": "python",
   "name": "python3"
  },
  "language_info": {
   "codemirror_mode": {
    "name": "ipython",
    "version": 3
   },
   "file_extension": ".py",
   "mimetype": "text/x-python",
   "name": "python",
   "nbconvert_exporter": "python",
   "pygments_lexer": "ipython3",
   "version": "3.8.11"
  }
 },
 "nbformat": 4,
 "nbformat_minor": 5
}
