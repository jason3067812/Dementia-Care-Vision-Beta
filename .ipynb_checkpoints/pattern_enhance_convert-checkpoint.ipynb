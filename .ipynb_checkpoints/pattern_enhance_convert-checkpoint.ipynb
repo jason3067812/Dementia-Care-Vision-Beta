{
 "cells": [
  {
   "cell_type": "code",
   "execution_count": 1,
   "id": "8fd6b60f",
   "metadata": {},
   "outputs": [],
   "source": [
    "import cv2\n",
    "import numpy as np\n",
    "import matplotlib.pyplot as plt\n",
    "import os\n",
    "from denoise_algorithm import denoise\n",
    "from kmeans_algorithm import segmentation\n",
    "\n",
    "# 修改路徑\n",
    "directory_name = r'D:\\Dementia_Data_Preprocessing\\testing_data\\all'\n",
    "new_directory_name = r'D:\\Dementia_Data_Preprocessing\\testing_data\\denoise\\all'\n",
    "\n",
    "\n",
    "for filename in os.listdir(directory_name):\n",
    "    \n",
    "\n",
    "    base = filename.split(\".\")[0]\n",
    "   \n",
    "    img = cv2.imread(directory_name + \"/\" + filename)\n",
    "    \n",
    "    dst = segmentation(img)\n",
    "    \n",
    "    # 黑白轉換\n",
    "    dst_d1 = [i for item in dst for i in item]\n",
    "    \n",
    "    p0 = 0\n",
    "    p1 = 0\n",
    "    \n",
    "    for k in dst_d1:\n",
    "        if k == 0:\n",
    "            p0+=1\n",
    "        else:\n",
    "            p1+=1\n",
    "\n",
    "    if p1>p0:        \n",
    "        dst2 = 1-dst\n",
    "    else:\n",
    "        dst2 = dst\n",
    "        \n",
    "    dst2 = denoise(dst2,0)\n",
    "    \n",
    "    final = denoise(dst2,1)\n",
    "           \n",
    "    final = final*255 \n",
    "    \n",
    "    cv2.imwrite(new_directory_name + \"/\" + base + \".png\", final)"
   ]
  },
  {
   "cell_type": "code",
   "execution_count": null,
   "id": "0851e729",
   "metadata": {},
   "outputs": [],
   "source": []
  }
 ],
 "metadata": {
  "kernelspec": {
   "display_name": "Python 3",
   "language": "python",
   "name": "python3"
  },
  "language_info": {
   "codemirror_mode": {
    "name": "ipython",
    "version": 3
   },
   "file_extension": ".py",
   "mimetype": "text/x-python",
   "name": "python",
   "nbconvert_exporter": "python",
   "pygments_lexer": "ipython3",
   "version": "3.8.11"
  }
 },
 "nbformat": 4,
 "nbformat_minor": 5
}
