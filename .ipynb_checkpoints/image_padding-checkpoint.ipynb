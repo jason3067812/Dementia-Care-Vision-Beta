{
 "cells": [
  {
   "cell_type": "code",
   "execution_count": 4,
   "id": "d5136d62",
   "metadata": {},
   "outputs": [
    {
     "data": {
      "text/plain": [
       "True"
      ]
     },
     "execution_count": 4,
     "metadata": {},
     "output_type": "execute_result"
    }
   ],
   "source": [
    "import cv2\n",
    "import os\n",
    "import random\n",
    "import numpy as np\n",
    "from matplotlib import pyplot as plt\n",
    "\n",
    "\n",
    "\n",
    "\n",
    "img = cv2.imread(r\"D:\\Dementia_Data_Preprocessing\\testing_data\\out_image\\20210825_t022256.jpg\")\n",
    "size = img.shape\n",
    "x=size[1]\n",
    "y=size[0]\n",
    "z=abs(x-y)\n",
    "   \n",
    "    \n",
    "BLACK = [0,0,0]\n",
    "constant = cv2.copyMakeBorder(img,0,z,0,0,cv2.BORDER_CONSTANT,value=BLACK)   #向下填補\n",
    "cv2.imwrite(r\"D:\\test\\20210825_t022256.jpg\", constant)\n",
    "\n",
    "# 顯示圖片\n",
    "# plt.figure(figsize = (3,3))\n",
    "# plt.imshow(constant)\n",
    "# plt.show()"
   ]
  },
  {
   "cell_type": "code",
   "execution_count": 5,
   "id": "b46c929c",
   "metadata": {},
   "outputs": [
    {
     "data": {
      "text/plain": [
       "True"
      ]
     },
     "execution_count": 5,
     "metadata": {},
     "output_type": "execute_result"
    }
   ],
   "source": [
    "import cv2\n",
    "import os\n",
    "import random\n",
    "import numpy as np\n",
    "from matplotlib import pyplot as plt\n",
    "\n",
    "a = cv2.resize(img, (128,128))\n",
    "b = cv2.resize(constant, (128,128))\n",
    "\n",
    "cv2.imwrite(r\"D:\\test\\20210825_t022256_a.jpg\", a)\n",
    "cv2.imwrite(r\"D:\\test\\20210825_t022256_b.jpg\", b)"
   ]
  },
  {
   "cell_type": "markdown",
   "id": "6e2b561c",
   "metadata": {},
   "source": [
    "## start run path"
   ]
  },
  {
   "cell_type": "code",
   "execution_count": null,
   "id": "f1195b0e",
   "metadata": {},
   "outputs": [],
   "source": [
    "import cv2\n",
    "import os\n",
    "import random\n",
    "import numpy as np\n",
    "\n",
    "# 修改路徑\n",
    "directory_name = r\"D:\\Dementia_Data_Preprocessing\\training_data\\original\\1\"\n",
    "new_directory_name = r\"D:\\Dementia_Data_Preprocessing\\training_data\\padding\\1\"\n",
    "\n",
    "\n",
    "count=0\n",
    "for filename in os.listdir(directory_name):\n",
    "    \n",
    "    count=count+1\n",
    "\n",
    "    img = cv2.imread(directory_name + \"/\" + filename,0)\n",
    "    size = img.shape\n",
    "    x=size[1]\n",
    "    y=size[0]\n",
    "    z=abs(x-y)\n",
    "   \n",
    "    \n",
    "    BLACK = [0,0,0]\n",
    "    constant = cv2.copyMakeBorder(img,0,z,0,0,cv2.BORDER_CONSTANT,value=BLACK)   #向下填補\n",
    "    cv2.imwrite(new_directory_name + \"/\" + filename, constant)\n",
    "    \n",
    "print(\"finish\")\n",
    "print(f\"total number:{count}\")"
   ]
  },
  {
   "cell_type": "code",
   "execution_count": null,
   "id": "b70e8b08",
   "metadata": {},
   "outputs": [],
   "source": []
  }
 ],
 "metadata": {
  "kernelspec": {
   "display_name": "Python 3",
   "language": "python",
   "name": "python3"
  },
  "language_info": {
   "codemirror_mode": {
    "name": "ipython",
    "version": 3
   },
   "file_extension": ".py",
   "mimetype": "text/x-python",
   "name": "python",
   "nbconvert_exporter": "python",
   "pygments_lexer": "ipython3",
   "version": "3.8.11"
  }
 },
 "nbformat": 4,
 "nbformat_minor": 5
}
